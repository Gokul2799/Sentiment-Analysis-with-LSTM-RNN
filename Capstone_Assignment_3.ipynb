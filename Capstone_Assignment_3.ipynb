{
  "nbformat": 4,
  "nbformat_minor": 0,
  "metadata": {
    "colab": {
      "provenance": []
    },
    "kernelspec": {
      "name": "python3",
      "display_name": "Python 3"
    },
    "language_info": {
      "name": "python"
    }
  },
  "cells": [
    {
      "cell_type": "code",
      "execution_count": 97,
      "metadata": {
        "id": "SVxpRzBZJ17O"
      },
      "outputs": [],
      "source": [
        "import os\n",
        "import re\n",
        "import nltk\n",
        "import string\n",
        "import numpy as np\n",
        "import pandas as pd\n",
        "import seaborn as sns\n",
        "from tqdm import tqdm\n",
        "from keras import layers\n",
        "import matplotlib.pyplot as plt\n",
        "from keras import regularizers\n",
        "from bs4 import BeautifulSoup\n",
        "from nltk.corpus import stopwords\n",
        "from wordcloud import WordCloud\n",
        "from keras.models import Sequential\n",
        "from keras.utils import to_categorical\n",
        "from keras.utils import pad_sequences\n",
        "from gensim.models import Word2Vec\n",
        "from nltk.tokenize import word_tokenize\n",
        "from gensim.models import KeyedVectors\n",
        "from keras.preprocessing.text import Tokenizer\n",
        "from sklearn.naive_bayes import MultinomialNB\n",
        "from sklearn.preprocessing import MinMaxScaler\n",
        "from sklearn.preprocessing import StandardScaler\n",
        "from sklearn.model_selection import train_test_split\n",
        "from sklearn.linear_model import LogisticRegression\n",
        "from sklearn.feature_extraction.text import TfidfVectorizer\n",
        "from sklearn.feature_extraction.text import CountVectorizer\n",
        "from sklearn.metrics import accuracy_score, confusion_matrix, classification_report"
      ]
    },
    {
      "cell_type": "code",
      "source": [
        "import warnings\n",
        "warnings.filterwarnings(\"ignore\")"
      ],
      "metadata": {
        "id": "A-LGmu7ZcIbv"
      },
      "execution_count": 98,
      "outputs": []
    },
    {
      "cell_type": "code",
      "source": [
        "! mkdir ~/.kaggle"
      ],
      "metadata": {
        "colab": {
          "base_uri": "https://localhost:8080/"
        },
        "id": "T_lwlYRkNT5r",
        "outputId": "967c148e-5631-418a-97c8-9da018f176e0"
      },
      "execution_count": 99,
      "outputs": [
        {
          "output_type": "stream",
          "name": "stdout",
          "text": [
            "mkdir: cannot create directory ‘/root/.kaggle’: File exists\n"
          ]
        }
      ]
    },
    {
      "cell_type": "code",
      "source": [
        "!mv kaggle.json ~/.kaggle/"
      ],
      "metadata": {
        "colab": {
          "base_uri": "https://localhost:8080/"
        },
        "id": "pL7WB78DMV8k",
        "outputId": "6e17352f-e4ea-4d20-bcbc-eb69eccc192a"
      },
      "execution_count": 100,
      "outputs": [
        {
          "output_type": "stream",
          "name": "stdout",
          "text": [
            "mv: cannot stat 'kaggle.json': No such file or directory\n"
          ]
        }
      ]
    },
    {
      "cell_type": "code",
      "source": [
        "import kaggle"
      ],
      "metadata": {
        "id": "bBY759ibNa5i"
      },
      "execution_count": 101,
      "outputs": []
    },
    {
      "cell_type": "code",
      "source": [
        "!chmod 600 /root/.kaggle/kaggle.json"
      ],
      "metadata": {
        "id": "KVtF2ddGNjLM"
      },
      "execution_count": 102,
      "outputs": []
    },
    {
      "cell_type": "code",
      "source": [
        "!kaggle datasets download -d snap/amazon-fine-food-reviews"
      ],
      "metadata": {
        "colab": {
          "base_uri": "https://localhost:8080/"
        },
        "id": "A_4T-Nj0NqF8",
        "outputId": "ee648e55-96a4-46a4-8640-0bfde55f83db"
      },
      "execution_count": 103,
      "outputs": [
        {
          "output_type": "stream",
          "name": "stdout",
          "text": [
            "amazon-fine-food-reviews.zip: Skipping, found more recently modified local copy (use --force to force download)\n"
          ]
        }
      ]
    },
    {
      "cell_type": "code",
      "source": [
        "!unzip -q /content/amazon-fine-food-reviews.zip"
      ],
      "metadata": {
        "colab": {
          "base_uri": "https://localhost:8080/"
        },
        "id": "c_48g6i0N5xa",
        "outputId": "d493d9db-4aca-4c78-ad83-9cf9b5b11d96"
      },
      "execution_count": 104,
      "outputs": [
        {
          "output_type": "stream",
          "name": "stdout",
          "text": [
            "replace Reviews.csv? [y]es, [n]o, [A]ll, [N]one, [r]ename: A\n"
          ]
        }
      ]
    },
    {
      "cell_type": "code",
      "source": [
        "df = pd.read_csv(\"/content/Reviews.csv\")"
      ],
      "metadata": {
        "id": "RFtPl876ONLN"
      },
      "execution_count": 105,
      "outputs": []
    },
    {
      "cell_type": "code",
      "source": [
        "df.head()"
      ],
      "metadata": {
        "colab": {
          "base_uri": "https://localhost:8080/",
          "height": 677
        },
        "id": "BQmMWeV1O-TU",
        "outputId": "de6dd6df-a0e7-4a25-8924-2c1b3e81f46e"
      },
      "execution_count": 106,
      "outputs": [
        {
          "output_type": "execute_result",
          "data": {
            "text/plain": [
              "   Id   ProductId          UserId                      ProfileName  \\\n",
              "0   1  B001E4KFG0  A3SGXH7AUHU8GW                       delmartian   \n",
              "1   2  B00813GRG4  A1D87F6ZCVE5NK                           dll pa   \n",
              "2   3  B000LQOCH0   ABXLMWJIXXAIN  Natalia Corres \"Natalia Corres\"   \n",
              "3   4  B000UA0QIQ  A395BORC6FGVXV                             Karl   \n",
              "4   5  B006K2ZZ7K  A1UQRSCLF8GW1T    Michael D. Bigham \"M. Wassir\"   \n",
              "\n",
              "   HelpfulnessNumerator  HelpfulnessDenominator  Score        Time  \\\n",
              "0                     1                       1      5  1303862400   \n",
              "1                     0                       0      1  1346976000   \n",
              "2                     1                       1      4  1219017600   \n",
              "3                     3                       3      2  1307923200   \n",
              "4                     0                       0      5  1350777600   \n",
              "\n",
              "                 Summary                                               Text  \n",
              "0  Good Quality Dog Food  I have bought several of the Vitality canned d...  \n",
              "1      Not as Advertised  Product arrived labeled as Jumbo Salted Peanut...  \n",
              "2  \"Delight\" says it all  This is a confection that has been around a fe...  \n",
              "3         Cough Medicine  If you are looking for the secret ingredient i...  \n",
              "4            Great taffy  Great taffy at a great price.  There was a wid...  "
            ],
            "text/html": [
              "\n",
              "  <div id=\"df-0eb7b03d-bc68-42b2-a43c-72f496d474c0\" class=\"colab-df-container\">\n",
              "    <div>\n",
              "<style scoped>\n",
              "    .dataframe tbody tr th:only-of-type {\n",
              "        vertical-align: middle;\n",
              "    }\n",
              "\n",
              "    .dataframe tbody tr th {\n",
              "        vertical-align: top;\n",
              "    }\n",
              "\n",
              "    .dataframe thead th {\n",
              "        text-align: right;\n",
              "    }\n",
              "</style>\n",
              "<table border=\"1\" class=\"dataframe\">\n",
              "  <thead>\n",
              "    <tr style=\"text-align: right;\">\n",
              "      <th></th>\n",
              "      <th>Id</th>\n",
              "      <th>ProductId</th>\n",
              "      <th>UserId</th>\n",
              "      <th>ProfileName</th>\n",
              "      <th>HelpfulnessNumerator</th>\n",
              "      <th>HelpfulnessDenominator</th>\n",
              "      <th>Score</th>\n",
              "      <th>Time</th>\n",
              "      <th>Summary</th>\n",
              "      <th>Text</th>\n",
              "    </tr>\n",
              "  </thead>\n",
              "  <tbody>\n",
              "    <tr>\n",
              "      <th>0</th>\n",
              "      <td>1</td>\n",
              "      <td>B001E4KFG0</td>\n",
              "      <td>A3SGXH7AUHU8GW</td>\n",
              "      <td>delmartian</td>\n",
              "      <td>1</td>\n",
              "      <td>1</td>\n",
              "      <td>5</td>\n",
              "      <td>1303862400</td>\n",
              "      <td>Good Quality Dog Food</td>\n",
              "      <td>I have bought several of the Vitality canned d...</td>\n",
              "    </tr>\n",
              "    <tr>\n",
              "      <th>1</th>\n",
              "      <td>2</td>\n",
              "      <td>B00813GRG4</td>\n",
              "      <td>A1D87F6ZCVE5NK</td>\n",
              "      <td>dll pa</td>\n",
              "      <td>0</td>\n",
              "      <td>0</td>\n",
              "      <td>1</td>\n",
              "      <td>1346976000</td>\n",
              "      <td>Not as Advertised</td>\n",
              "      <td>Product arrived labeled as Jumbo Salted Peanut...</td>\n",
              "    </tr>\n",
              "    <tr>\n",
              "      <th>2</th>\n",
              "      <td>3</td>\n",
              "      <td>B000LQOCH0</td>\n",
              "      <td>ABXLMWJIXXAIN</td>\n",
              "      <td>Natalia Corres \"Natalia Corres\"</td>\n",
              "      <td>1</td>\n",
              "      <td>1</td>\n",
              "      <td>4</td>\n",
              "      <td>1219017600</td>\n",
              "      <td>\"Delight\" says it all</td>\n",
              "      <td>This is a confection that has been around a fe...</td>\n",
              "    </tr>\n",
              "    <tr>\n",
              "      <th>3</th>\n",
              "      <td>4</td>\n",
              "      <td>B000UA0QIQ</td>\n",
              "      <td>A395BORC6FGVXV</td>\n",
              "      <td>Karl</td>\n",
              "      <td>3</td>\n",
              "      <td>3</td>\n",
              "      <td>2</td>\n",
              "      <td>1307923200</td>\n",
              "      <td>Cough Medicine</td>\n",
              "      <td>If you are looking for the secret ingredient i...</td>\n",
              "    </tr>\n",
              "    <tr>\n",
              "      <th>4</th>\n",
              "      <td>5</td>\n",
              "      <td>B006K2ZZ7K</td>\n",
              "      <td>A1UQRSCLF8GW1T</td>\n",
              "      <td>Michael D. Bigham \"M. Wassir\"</td>\n",
              "      <td>0</td>\n",
              "      <td>0</td>\n",
              "      <td>5</td>\n",
              "      <td>1350777600</td>\n",
              "      <td>Great taffy</td>\n",
              "      <td>Great taffy at a great price.  There was a wid...</td>\n",
              "    </tr>\n",
              "  </tbody>\n",
              "</table>\n",
              "</div>\n",
              "    <div class=\"colab-df-buttons\">\n",
              "\n",
              "  <div class=\"colab-df-container\">\n",
              "    <button class=\"colab-df-convert\" onclick=\"convertToInteractive('df-0eb7b03d-bc68-42b2-a43c-72f496d474c0')\"\n",
              "            title=\"Convert this dataframe to an interactive table.\"\n",
              "            style=\"display:none;\">\n",
              "\n",
              "  <svg xmlns=\"http://www.w3.org/2000/svg\" height=\"24px\" viewBox=\"0 -960 960 960\">\n",
              "    <path d=\"M120-120v-720h720v720H120Zm60-500h600v-160H180v160Zm220 220h160v-160H400v160Zm0 220h160v-160H400v160ZM180-400h160v-160H180v160Zm440 0h160v-160H620v160ZM180-180h160v-160H180v160Zm440 0h160v-160H620v160Z\"/>\n",
              "  </svg>\n",
              "    </button>\n",
              "\n",
              "  <style>\n",
              "    .colab-df-container {\n",
              "      display:flex;\n",
              "      gap: 12px;\n",
              "    }\n",
              "\n",
              "    .colab-df-convert {\n",
              "      background-color: #E8F0FE;\n",
              "      border: none;\n",
              "      border-radius: 50%;\n",
              "      cursor: pointer;\n",
              "      display: none;\n",
              "      fill: #1967D2;\n",
              "      height: 32px;\n",
              "      padding: 0 0 0 0;\n",
              "      width: 32px;\n",
              "    }\n",
              "\n",
              "    .colab-df-convert:hover {\n",
              "      background-color: #E2EBFA;\n",
              "      box-shadow: 0px 1px 2px rgba(60, 64, 67, 0.3), 0px 1px 3px 1px rgba(60, 64, 67, 0.15);\n",
              "      fill: #174EA6;\n",
              "    }\n",
              "\n",
              "    .colab-df-buttons div {\n",
              "      margin-bottom: 4px;\n",
              "    }\n",
              "\n",
              "    [theme=dark] .colab-df-convert {\n",
              "      background-color: #3B4455;\n",
              "      fill: #D2E3FC;\n",
              "    }\n",
              "\n",
              "    [theme=dark] .colab-df-convert:hover {\n",
              "      background-color: #434B5C;\n",
              "      box-shadow: 0px 1px 3px 1px rgba(0, 0, 0, 0.15);\n",
              "      filter: drop-shadow(0px 1px 2px rgba(0, 0, 0, 0.3));\n",
              "      fill: #FFFFFF;\n",
              "    }\n",
              "  </style>\n",
              "\n",
              "    <script>\n",
              "      const buttonEl =\n",
              "        document.querySelector('#df-0eb7b03d-bc68-42b2-a43c-72f496d474c0 button.colab-df-convert');\n",
              "      buttonEl.style.display =\n",
              "        google.colab.kernel.accessAllowed ? 'block' : 'none';\n",
              "\n",
              "      async function convertToInteractive(key) {\n",
              "        const element = document.querySelector('#df-0eb7b03d-bc68-42b2-a43c-72f496d474c0');\n",
              "        const dataTable =\n",
              "          await google.colab.kernel.invokeFunction('convertToInteractive',\n",
              "                                                    [key], {});\n",
              "        if (!dataTable) return;\n",
              "\n",
              "        const docLinkHtml = 'Like what you see? Visit the ' +\n",
              "          '<a target=\"_blank\" href=https://colab.research.google.com/notebooks/data_table.ipynb>data table notebook</a>'\n",
              "          + ' to learn more about interactive tables.';\n",
              "        element.innerHTML = '';\n",
              "        dataTable['output_type'] = 'display_data';\n",
              "        await google.colab.output.renderOutput(dataTable, element);\n",
              "        const docLink = document.createElement('div');\n",
              "        docLink.innerHTML = docLinkHtml;\n",
              "        element.appendChild(docLink);\n",
              "      }\n",
              "    </script>\n",
              "  </div>\n",
              "\n",
              "\n",
              "<div id=\"df-0c1dcdd4-2a35-4fd3-8ed1-a8f8aa281ab4\">\n",
              "  <button class=\"colab-df-quickchart\" onclick=\"quickchart('df-0c1dcdd4-2a35-4fd3-8ed1-a8f8aa281ab4')\"\n",
              "            title=\"Suggest charts.\"\n",
              "            style=\"display:none;\">\n",
              "\n",
              "<svg xmlns=\"http://www.w3.org/2000/svg\" height=\"24px\"viewBox=\"0 0 24 24\"\n",
              "     width=\"24px\">\n",
              "    <g>\n",
              "        <path d=\"M19 3H5c-1.1 0-2 .9-2 2v14c0 1.1.9 2 2 2h14c1.1 0 2-.9 2-2V5c0-1.1-.9-2-2-2zM9 17H7v-7h2v7zm4 0h-2V7h2v10zm4 0h-2v-4h2v4z\"/>\n",
              "    </g>\n",
              "</svg>\n",
              "  </button>\n",
              "\n",
              "<style>\n",
              "  .colab-df-quickchart {\n",
              "      --bg-color: #E8F0FE;\n",
              "      --fill-color: #1967D2;\n",
              "      --hover-bg-color: #E2EBFA;\n",
              "      --hover-fill-color: #174EA6;\n",
              "      --disabled-fill-color: #AAA;\n",
              "      --disabled-bg-color: #DDD;\n",
              "  }\n",
              "\n",
              "  [theme=dark] .colab-df-quickchart {\n",
              "      --bg-color: #3B4455;\n",
              "      --fill-color: #D2E3FC;\n",
              "      --hover-bg-color: #434B5C;\n",
              "      --hover-fill-color: #FFFFFF;\n",
              "      --disabled-bg-color: #3B4455;\n",
              "      --disabled-fill-color: #666;\n",
              "  }\n",
              "\n",
              "  .colab-df-quickchart {\n",
              "    background-color: var(--bg-color);\n",
              "    border: none;\n",
              "    border-radius: 50%;\n",
              "    cursor: pointer;\n",
              "    display: none;\n",
              "    fill: var(--fill-color);\n",
              "    height: 32px;\n",
              "    padding: 0;\n",
              "    width: 32px;\n",
              "  }\n",
              "\n",
              "  .colab-df-quickchart:hover {\n",
              "    background-color: var(--hover-bg-color);\n",
              "    box-shadow: 0 1px 2px rgba(60, 64, 67, 0.3), 0 1px 3px 1px rgba(60, 64, 67, 0.15);\n",
              "    fill: var(--button-hover-fill-color);\n",
              "  }\n",
              "\n",
              "  .colab-df-quickchart-complete:disabled,\n",
              "  .colab-df-quickchart-complete:disabled:hover {\n",
              "    background-color: var(--disabled-bg-color);\n",
              "    fill: var(--disabled-fill-color);\n",
              "    box-shadow: none;\n",
              "  }\n",
              "\n",
              "  .colab-df-spinner {\n",
              "    border: 2px solid var(--fill-color);\n",
              "    border-color: transparent;\n",
              "    border-bottom-color: var(--fill-color);\n",
              "    animation:\n",
              "      spin 1s steps(1) infinite;\n",
              "  }\n",
              "\n",
              "  @keyframes spin {\n",
              "    0% {\n",
              "      border-color: transparent;\n",
              "      border-bottom-color: var(--fill-color);\n",
              "      border-left-color: var(--fill-color);\n",
              "    }\n",
              "    20% {\n",
              "      border-color: transparent;\n",
              "      border-left-color: var(--fill-color);\n",
              "      border-top-color: var(--fill-color);\n",
              "    }\n",
              "    30% {\n",
              "      border-color: transparent;\n",
              "      border-left-color: var(--fill-color);\n",
              "      border-top-color: var(--fill-color);\n",
              "      border-right-color: var(--fill-color);\n",
              "    }\n",
              "    40% {\n",
              "      border-color: transparent;\n",
              "      border-right-color: var(--fill-color);\n",
              "      border-top-color: var(--fill-color);\n",
              "    }\n",
              "    60% {\n",
              "      border-color: transparent;\n",
              "      border-right-color: var(--fill-color);\n",
              "    }\n",
              "    80% {\n",
              "      border-color: transparent;\n",
              "      border-right-color: var(--fill-color);\n",
              "      border-bottom-color: var(--fill-color);\n",
              "    }\n",
              "    90% {\n",
              "      border-color: transparent;\n",
              "      border-bottom-color: var(--fill-color);\n",
              "    }\n",
              "  }\n",
              "</style>\n",
              "\n",
              "  <script>\n",
              "    async function quickchart(key) {\n",
              "      const quickchartButtonEl =\n",
              "        document.querySelector('#' + key + ' button');\n",
              "      quickchartButtonEl.disabled = true;  // To prevent multiple clicks.\n",
              "      quickchartButtonEl.classList.add('colab-df-spinner');\n",
              "      try {\n",
              "        const charts = await google.colab.kernel.invokeFunction(\n",
              "            'suggestCharts', [key], {});\n",
              "      } catch (error) {\n",
              "        console.error('Error during call to suggestCharts:', error);\n",
              "      }\n",
              "      quickchartButtonEl.classList.remove('colab-df-spinner');\n",
              "      quickchartButtonEl.classList.add('colab-df-quickchart-complete');\n",
              "    }\n",
              "    (() => {\n",
              "      let quickchartButtonEl =\n",
              "        document.querySelector('#df-0c1dcdd4-2a35-4fd3-8ed1-a8f8aa281ab4 button');\n",
              "      quickchartButtonEl.style.display =\n",
              "        google.colab.kernel.accessAllowed ? 'block' : 'none';\n",
              "    })();\n",
              "  </script>\n",
              "</div>\n",
              "    </div>\n",
              "  </div>\n"
            ]
          },
          "metadata": {},
          "execution_count": 106
        }
      ]
    },
    {
      "cell_type": "code",
      "source": [
        "df.shape"
      ],
      "metadata": {
        "colab": {
          "base_uri": "https://localhost:8080/"
        },
        "id": "9Dw4a1uMRzu8",
        "outputId": "6b2faf9b-f59f-416d-e9d9-ba8a04605cd5"
      },
      "execution_count": 107,
      "outputs": [
        {
          "output_type": "execute_result",
          "data": {
            "text/plain": [
              "(568454, 10)"
            ]
          },
          "metadata": {},
          "execution_count": 107
        }
      ]
    },
    {
      "cell_type": "code",
      "source": [
        "df.info()"
      ],
      "metadata": {
        "colab": {
          "base_uri": "https://localhost:8080/"
        },
        "id": "PyLI04wUPKEc",
        "outputId": "6e5bc061-e7b4-48a7-9662-9bbf16cd947f"
      },
      "execution_count": 108,
      "outputs": [
        {
          "output_type": "stream",
          "name": "stdout",
          "text": [
            "<class 'pandas.core.frame.DataFrame'>\n",
            "RangeIndex: 568454 entries, 0 to 568453\n",
            "Data columns (total 10 columns):\n",
            " #   Column                  Non-Null Count   Dtype \n",
            "---  ------                  --------------   ----- \n",
            " 0   Id                      568454 non-null  int64 \n",
            " 1   ProductId               568454 non-null  object\n",
            " 2   UserId                  568454 non-null  object\n",
            " 3   ProfileName             568438 non-null  object\n",
            " 4   HelpfulnessNumerator    568454 non-null  int64 \n",
            " 5   HelpfulnessDenominator  568454 non-null  int64 \n",
            " 6   Score                   568454 non-null  int64 \n",
            " 7   Time                    568454 non-null  int64 \n",
            " 8   Summary                 568427 non-null  object\n",
            " 9   Text                    568454 non-null  object\n",
            "dtypes: int64(5), object(5)\n",
            "memory usage: 43.4+ MB\n"
          ]
        }
      ]
    },
    {
      "cell_type": "code",
      "source": [
        "df.describe()"
      ],
      "metadata": {
        "colab": {
          "base_uri": "https://localhost:8080/",
          "height": 300
        },
        "id": "4BymuW2MFdMn",
        "outputId": "ce876f8d-708b-4767-d155-292351495c44"
      },
      "execution_count": 109,
      "outputs": [
        {
          "output_type": "execute_result",
          "data": {
            "text/plain": [
              "                  Id  HelpfulnessNumerator  HelpfulnessDenominator  \\\n",
              "count  568454.000000         568454.000000            568454.00000   \n",
              "mean   284227.500000              1.743817                 2.22881   \n",
              "std    164098.679298              7.636513                 8.28974   \n",
              "min         1.000000              0.000000                 0.00000   \n",
              "25%    142114.250000              0.000000                 0.00000   \n",
              "50%    284227.500000              0.000000                 1.00000   \n",
              "75%    426340.750000              2.000000                 2.00000   \n",
              "max    568454.000000            866.000000               923.00000   \n",
              "\n",
              "               Score          Time  \n",
              "count  568454.000000  5.684540e+05  \n",
              "mean        4.183199  1.296257e+09  \n",
              "std         1.310436  4.804331e+07  \n",
              "min         1.000000  9.393408e+08  \n",
              "25%         4.000000  1.271290e+09  \n",
              "50%         5.000000  1.311120e+09  \n",
              "75%         5.000000  1.332720e+09  \n",
              "max         5.000000  1.351210e+09  "
            ],
            "text/html": [
              "\n",
              "  <div id=\"df-b73cba06-02b1-4fd5-8f17-e5e619d5a0c2\" class=\"colab-df-container\">\n",
              "    <div>\n",
              "<style scoped>\n",
              "    .dataframe tbody tr th:only-of-type {\n",
              "        vertical-align: middle;\n",
              "    }\n",
              "\n",
              "    .dataframe tbody tr th {\n",
              "        vertical-align: top;\n",
              "    }\n",
              "\n",
              "    .dataframe thead th {\n",
              "        text-align: right;\n",
              "    }\n",
              "</style>\n",
              "<table border=\"1\" class=\"dataframe\">\n",
              "  <thead>\n",
              "    <tr style=\"text-align: right;\">\n",
              "      <th></th>\n",
              "      <th>Id</th>\n",
              "      <th>HelpfulnessNumerator</th>\n",
              "      <th>HelpfulnessDenominator</th>\n",
              "      <th>Score</th>\n",
              "      <th>Time</th>\n",
              "    </tr>\n",
              "  </thead>\n",
              "  <tbody>\n",
              "    <tr>\n",
              "      <th>count</th>\n",
              "      <td>568454.000000</td>\n",
              "      <td>568454.000000</td>\n",
              "      <td>568454.00000</td>\n",
              "      <td>568454.000000</td>\n",
              "      <td>5.684540e+05</td>\n",
              "    </tr>\n",
              "    <tr>\n",
              "      <th>mean</th>\n",
              "      <td>284227.500000</td>\n",
              "      <td>1.743817</td>\n",
              "      <td>2.22881</td>\n",
              "      <td>4.183199</td>\n",
              "      <td>1.296257e+09</td>\n",
              "    </tr>\n",
              "    <tr>\n",
              "      <th>std</th>\n",
              "      <td>164098.679298</td>\n",
              "      <td>7.636513</td>\n",
              "      <td>8.28974</td>\n",
              "      <td>1.310436</td>\n",
              "      <td>4.804331e+07</td>\n",
              "    </tr>\n",
              "    <tr>\n",
              "      <th>min</th>\n",
              "      <td>1.000000</td>\n",
              "      <td>0.000000</td>\n",
              "      <td>0.00000</td>\n",
              "      <td>1.000000</td>\n",
              "      <td>9.393408e+08</td>\n",
              "    </tr>\n",
              "    <tr>\n",
              "      <th>25%</th>\n",
              "      <td>142114.250000</td>\n",
              "      <td>0.000000</td>\n",
              "      <td>0.00000</td>\n",
              "      <td>4.000000</td>\n",
              "      <td>1.271290e+09</td>\n",
              "    </tr>\n",
              "    <tr>\n",
              "      <th>50%</th>\n",
              "      <td>284227.500000</td>\n",
              "      <td>0.000000</td>\n",
              "      <td>1.00000</td>\n",
              "      <td>5.000000</td>\n",
              "      <td>1.311120e+09</td>\n",
              "    </tr>\n",
              "    <tr>\n",
              "      <th>75%</th>\n",
              "      <td>426340.750000</td>\n",
              "      <td>2.000000</td>\n",
              "      <td>2.00000</td>\n",
              "      <td>5.000000</td>\n",
              "      <td>1.332720e+09</td>\n",
              "    </tr>\n",
              "    <tr>\n",
              "      <th>max</th>\n",
              "      <td>568454.000000</td>\n",
              "      <td>866.000000</td>\n",
              "      <td>923.00000</td>\n",
              "      <td>5.000000</td>\n",
              "      <td>1.351210e+09</td>\n",
              "    </tr>\n",
              "  </tbody>\n",
              "</table>\n",
              "</div>\n",
              "    <div class=\"colab-df-buttons\">\n",
              "\n",
              "  <div class=\"colab-df-container\">\n",
              "    <button class=\"colab-df-convert\" onclick=\"convertToInteractive('df-b73cba06-02b1-4fd5-8f17-e5e619d5a0c2')\"\n",
              "            title=\"Convert this dataframe to an interactive table.\"\n",
              "            style=\"display:none;\">\n",
              "\n",
              "  <svg xmlns=\"http://www.w3.org/2000/svg\" height=\"24px\" viewBox=\"0 -960 960 960\">\n",
              "    <path d=\"M120-120v-720h720v720H120Zm60-500h600v-160H180v160Zm220 220h160v-160H400v160Zm0 220h160v-160H400v160ZM180-400h160v-160H180v160Zm440 0h160v-160H620v160ZM180-180h160v-160H180v160Zm440 0h160v-160H620v160Z\"/>\n",
              "  </svg>\n",
              "    </button>\n",
              "\n",
              "  <style>\n",
              "    .colab-df-container {\n",
              "      display:flex;\n",
              "      gap: 12px;\n",
              "    }\n",
              "\n",
              "    .colab-df-convert {\n",
              "      background-color: #E8F0FE;\n",
              "      border: none;\n",
              "      border-radius: 50%;\n",
              "      cursor: pointer;\n",
              "      display: none;\n",
              "      fill: #1967D2;\n",
              "      height: 32px;\n",
              "      padding: 0 0 0 0;\n",
              "      width: 32px;\n",
              "    }\n",
              "\n",
              "    .colab-df-convert:hover {\n",
              "      background-color: #E2EBFA;\n",
              "      box-shadow: 0px 1px 2px rgba(60, 64, 67, 0.3), 0px 1px 3px 1px rgba(60, 64, 67, 0.15);\n",
              "      fill: #174EA6;\n",
              "    }\n",
              "\n",
              "    .colab-df-buttons div {\n",
              "      margin-bottom: 4px;\n",
              "    }\n",
              "\n",
              "    [theme=dark] .colab-df-convert {\n",
              "      background-color: #3B4455;\n",
              "      fill: #D2E3FC;\n",
              "    }\n",
              "\n",
              "    [theme=dark] .colab-df-convert:hover {\n",
              "      background-color: #434B5C;\n",
              "      box-shadow: 0px 1px 3px 1px rgba(0, 0, 0, 0.15);\n",
              "      filter: drop-shadow(0px 1px 2px rgba(0, 0, 0, 0.3));\n",
              "      fill: #FFFFFF;\n",
              "    }\n",
              "  </style>\n",
              "\n",
              "    <script>\n",
              "      const buttonEl =\n",
              "        document.querySelector('#df-b73cba06-02b1-4fd5-8f17-e5e619d5a0c2 button.colab-df-convert');\n",
              "      buttonEl.style.display =\n",
              "        google.colab.kernel.accessAllowed ? 'block' : 'none';\n",
              "\n",
              "      async function convertToInteractive(key) {\n",
              "        const element = document.querySelector('#df-b73cba06-02b1-4fd5-8f17-e5e619d5a0c2');\n",
              "        const dataTable =\n",
              "          await google.colab.kernel.invokeFunction('convertToInteractive',\n",
              "                                                    [key], {});\n",
              "        if (!dataTable) return;\n",
              "\n",
              "        const docLinkHtml = 'Like what you see? Visit the ' +\n",
              "          '<a target=\"_blank\" href=https://colab.research.google.com/notebooks/data_table.ipynb>data table notebook</a>'\n",
              "          + ' to learn more about interactive tables.';\n",
              "        element.innerHTML = '';\n",
              "        dataTable['output_type'] = 'display_data';\n",
              "        await google.colab.output.renderOutput(dataTable, element);\n",
              "        const docLink = document.createElement('div');\n",
              "        docLink.innerHTML = docLinkHtml;\n",
              "        element.appendChild(docLink);\n",
              "      }\n",
              "    </script>\n",
              "  </div>\n",
              "\n",
              "\n",
              "<div id=\"df-555f01cf-4781-4ffb-8517-91161bf80b14\">\n",
              "  <button class=\"colab-df-quickchart\" onclick=\"quickchart('df-555f01cf-4781-4ffb-8517-91161bf80b14')\"\n",
              "            title=\"Suggest charts.\"\n",
              "            style=\"display:none;\">\n",
              "\n",
              "<svg xmlns=\"http://www.w3.org/2000/svg\" height=\"24px\"viewBox=\"0 0 24 24\"\n",
              "     width=\"24px\">\n",
              "    <g>\n",
              "        <path d=\"M19 3H5c-1.1 0-2 .9-2 2v14c0 1.1.9 2 2 2h14c1.1 0 2-.9 2-2V5c0-1.1-.9-2-2-2zM9 17H7v-7h2v7zm4 0h-2V7h2v10zm4 0h-2v-4h2v4z\"/>\n",
              "    </g>\n",
              "</svg>\n",
              "  </button>\n",
              "\n",
              "<style>\n",
              "  .colab-df-quickchart {\n",
              "      --bg-color: #E8F0FE;\n",
              "      --fill-color: #1967D2;\n",
              "      --hover-bg-color: #E2EBFA;\n",
              "      --hover-fill-color: #174EA6;\n",
              "      --disabled-fill-color: #AAA;\n",
              "      --disabled-bg-color: #DDD;\n",
              "  }\n",
              "\n",
              "  [theme=dark] .colab-df-quickchart {\n",
              "      --bg-color: #3B4455;\n",
              "      --fill-color: #D2E3FC;\n",
              "      --hover-bg-color: #434B5C;\n",
              "      --hover-fill-color: #FFFFFF;\n",
              "      --disabled-bg-color: #3B4455;\n",
              "      --disabled-fill-color: #666;\n",
              "  }\n",
              "\n",
              "  .colab-df-quickchart {\n",
              "    background-color: var(--bg-color);\n",
              "    border: none;\n",
              "    border-radius: 50%;\n",
              "    cursor: pointer;\n",
              "    display: none;\n",
              "    fill: var(--fill-color);\n",
              "    height: 32px;\n",
              "    padding: 0;\n",
              "    width: 32px;\n",
              "  }\n",
              "\n",
              "  .colab-df-quickchart:hover {\n",
              "    background-color: var(--hover-bg-color);\n",
              "    box-shadow: 0 1px 2px rgba(60, 64, 67, 0.3), 0 1px 3px 1px rgba(60, 64, 67, 0.15);\n",
              "    fill: var(--button-hover-fill-color);\n",
              "  }\n",
              "\n",
              "  .colab-df-quickchart-complete:disabled,\n",
              "  .colab-df-quickchart-complete:disabled:hover {\n",
              "    background-color: var(--disabled-bg-color);\n",
              "    fill: var(--disabled-fill-color);\n",
              "    box-shadow: none;\n",
              "  }\n",
              "\n",
              "  .colab-df-spinner {\n",
              "    border: 2px solid var(--fill-color);\n",
              "    border-color: transparent;\n",
              "    border-bottom-color: var(--fill-color);\n",
              "    animation:\n",
              "      spin 1s steps(1) infinite;\n",
              "  }\n",
              "\n",
              "  @keyframes spin {\n",
              "    0% {\n",
              "      border-color: transparent;\n",
              "      border-bottom-color: var(--fill-color);\n",
              "      border-left-color: var(--fill-color);\n",
              "    }\n",
              "    20% {\n",
              "      border-color: transparent;\n",
              "      border-left-color: var(--fill-color);\n",
              "      border-top-color: var(--fill-color);\n",
              "    }\n",
              "    30% {\n",
              "      border-color: transparent;\n",
              "      border-left-color: var(--fill-color);\n",
              "      border-top-color: var(--fill-color);\n",
              "      border-right-color: var(--fill-color);\n",
              "    }\n",
              "    40% {\n",
              "      border-color: transparent;\n",
              "      border-right-color: var(--fill-color);\n",
              "      border-top-color: var(--fill-color);\n",
              "    }\n",
              "    60% {\n",
              "      border-color: transparent;\n",
              "      border-right-color: var(--fill-color);\n",
              "    }\n",
              "    80% {\n",
              "      border-color: transparent;\n",
              "      border-right-color: var(--fill-color);\n",
              "      border-bottom-color: var(--fill-color);\n",
              "    }\n",
              "    90% {\n",
              "      border-color: transparent;\n",
              "      border-bottom-color: var(--fill-color);\n",
              "    }\n",
              "  }\n",
              "</style>\n",
              "\n",
              "  <script>\n",
              "    async function quickchart(key) {\n",
              "      const quickchartButtonEl =\n",
              "        document.querySelector('#' + key + ' button');\n",
              "      quickchartButtonEl.disabled = true;  // To prevent multiple clicks.\n",
              "      quickchartButtonEl.classList.add('colab-df-spinner');\n",
              "      try {\n",
              "        const charts = await google.colab.kernel.invokeFunction(\n",
              "            'suggestCharts', [key], {});\n",
              "      } catch (error) {\n",
              "        console.error('Error during call to suggestCharts:', error);\n",
              "      }\n",
              "      quickchartButtonEl.classList.remove('colab-df-spinner');\n",
              "      quickchartButtonEl.classList.add('colab-df-quickchart-complete');\n",
              "    }\n",
              "    (() => {\n",
              "      let quickchartButtonEl =\n",
              "        document.querySelector('#df-555f01cf-4781-4ffb-8517-91161bf80b14 button');\n",
              "      quickchartButtonEl.style.display =\n",
              "        google.colab.kernel.accessAllowed ? 'block' : 'none';\n",
              "    })();\n",
              "  </script>\n",
              "</div>\n",
              "    </div>\n",
              "  </div>\n"
            ]
          },
          "metadata": {},
          "execution_count": 109
        }
      ]
    },
    {
      "cell_type": "code",
      "source": [
        "df.isna().sum()"
      ],
      "metadata": {
        "colab": {
          "base_uri": "https://localhost:8080/"
        },
        "id": "ITIQ7RvRMXOw",
        "outputId": "4c6f04ae-8895-4858-bc2e-31e78fcf01ab"
      },
      "execution_count": 110,
      "outputs": [
        {
          "output_type": "execute_result",
          "data": {
            "text/plain": [
              "Id                         0\n",
              "ProductId                  0\n",
              "UserId                     0\n",
              "ProfileName               16\n",
              "HelpfulnessNumerator       0\n",
              "HelpfulnessDenominator     0\n",
              "Score                      0\n",
              "Time                       0\n",
              "Summary                   27\n",
              "Text                       0\n",
              "dtype: int64"
            ]
          },
          "metadata": {},
          "execution_count": 110
        }
      ]
    },
    {
      "cell_type": "code",
      "source": [
        "df.dropna(inplace=True)"
      ],
      "metadata": {
        "id": "D9PIIIsqmCFT"
      },
      "execution_count": 111,
      "outputs": []
    },
    {
      "cell_type": "markdown",
      "source": [
        "## EDA"
      ],
      "metadata": {
        "id": "5IbQrmF_HL_S"
      }
    },
    {
      "cell_type": "markdown",
      "source": [
        "Plot of Number of Review scores"
      ],
      "metadata": {
        "id": "4Wj0mdOIJhmw"
      }
    },
    {
      "cell_type": "code",
      "source": [
        "df1 =df.copy()"
      ],
      "metadata": {
        "id": "yTM766GTobHj"
      },
      "execution_count": 112,
      "outputs": []
    },
    {
      "cell_type": "code",
      "source": [
        "df1[df1['HelpfulnessNumerator'] > df1['HelpfulnessDenominator']].shape"
      ],
      "metadata": {
        "colab": {
          "base_uri": "https://localhost:8080/"
        },
        "id": "pQQKqFrSir-v",
        "outputId": "25a1af01-1a87-4a1f-85a8-fc8c42d392d0"
      },
      "execution_count": 113,
      "outputs": [
        {
          "output_type": "execute_result",
          "data": {
            "text/plain": [
              "(2, 10)"
            ]
          },
          "metadata": {},
          "execution_count": 113
        }
      ]
    },
    {
      "cell_type": "markdown",
      "source": [
        "Found invalid data entries as values exceed denominator values"
      ],
      "metadata": {
        "id": "5iAgAxWgimtk"
      }
    },
    {
      "cell_type": "code",
      "source": [
        "df1 = df1[df1['HelpfulnessNumerator'] <= df1['HelpfulnessDenominator']]"
      ],
      "metadata": {
        "id": "JDwluuJdsntf"
      },
      "execution_count": 114,
      "outputs": []
    },
    {
      "cell_type": "code",
      "source": [
        "df1.ProductId.nunique()"
      ],
      "metadata": {
        "colab": {
          "base_uri": "https://localhost:8080/"
        },
        "id": "8FxMETBjkOAj",
        "outputId": "24b3e7de-989e-45e0-bff3-5d316d965409"
      },
      "execution_count": 115,
      "outputs": [
        {
          "output_type": "execute_result",
          "data": {
            "text/plain": [
              "74258"
            ]
          },
          "metadata": {},
          "execution_count": 115
        }
      ]
    },
    {
      "cell_type": "markdown",
      "source": [
        "Found duplicates of products with repeating ProductId. Taking only one review per user each product"
      ],
      "metadata": {
        "id": "8l33JCLhjIn-"
      }
    },
    {
      "cell_type": "code",
      "source": [
        "sorted_data=df1.sort_values('ProductId', axis=0, ascending=True, kind='quicksort')"
      ],
      "metadata": {
        "id": "ueCAYyCPuAsR"
      },
      "execution_count": 116,
      "outputs": []
    },
    {
      "cell_type": "code",
      "source": [
        "df1 = sorted_data.drop_duplicates(subset={\"UserId\",\"ProfileName\",\"Time\",\"Text\"}, inplace=False)"
      ],
      "metadata": {
        "id": "67Qz9H0Fufeb"
      },
      "execution_count": 117,
      "outputs": []
    },
    {
      "cell_type": "code",
      "source": [
        "df1.shape"
      ],
      "metadata": {
        "colab": {
          "base_uri": "https://localhost:8080/"
        },
        "id": "P2gljgH1lSQn",
        "outputId": "d6dede43-3a85-4362-cba6-65900006e094"
      },
      "execution_count": 118,
      "outputs": [
        {
          "output_type": "execute_result",
          "data": {
            "text/plain": [
              "(393917, 10)"
            ]
          },
          "metadata": {},
          "execution_count": 118
        }
      ]
    },
    {
      "cell_type": "code",
      "source": [
        "sns.countplot(x=df1.Score)\n",
        "plt.show()"
      ],
      "metadata": {
        "colab": {
          "base_uri": "https://localhost:8080/",
          "height": 449
        },
        "id": "g2wvbzu4Izv_",
        "outputId": "de6aa078-7287-48f7-ea0c-864068c4e2d1"
      },
      "execution_count": 119,
      "outputs": [
        {
          "output_type": "display_data",
          "data": {
            "text/plain": [
              "<Figure size 640x480 with 1 Axes>"
            ],
            "image/png": "[encoded data removed]"
          },
          "metadata": {}
        }
      ]
    },
    {
      "cell_type": "markdown",
      "source": [
        "Categorizing the sentiments into 2 groups:<br>\n",
        "1. Positive\n",
        "2. Negative"
      ],
      "metadata": {
        "id": "xzKWgrYGjfVj"
      }
    },
    {
      "cell_type": "code",
      "source": [
        "def score_split(score):\n",
        "  if(score > 3):\n",
        "    return 'Positive'\n",
        "  elif(score <= 3):\n",
        "    return 'Negative'\n"
      ],
      "metadata": {
        "id": "3RQV2EgWpBsR"
      },
      "execution_count": 120,
      "outputs": []
    },
    {
      "cell_type": "code",
      "source": [
        "df1['score_split']= df1['Score'].apply(score_split)"
      ],
      "metadata": {
        "id": "dVLISto8L5MK"
      },
      "execution_count": 121,
      "outputs": []
    },
    {
      "cell_type": "code",
      "source": [
        "sns.countplot(x=df1.score_split)\n",
        "plt.show()"
      ],
      "metadata": {
        "colab": {
          "base_uri": "https://localhost:8080/",
          "height": 450
        },
        "id": "wWBgyjJDPbr3",
        "outputId": "c78c1153-a845-44b7-bcd4-9f33fec1f585"
      },
      "execution_count": 122,
      "outputs": [
        {
          "output_type": "display_data",
          "data": {
            "text/plain": [
              "<Figure size 640x480 with 1 Axes>"
            ],
            "image/png": "[encoded data removed]"
          },
          "metadata": {}
        }
      ]
    },
    {
      "cell_type": "code",
      "source": [
        "nltk.download('stopwords')\n",
        "nltk.download('punkt')\n",
        "\n",
        "def remove_stopwords(ss,sw=  set(stopwords.words('english')),stem='Stem'):\n",
        "  s =list(sw) + ['hi', 'im', 'i']\n",
        "  sw =set(s)\n",
        "  translator = str.maketrans('', '', string.punctuation)\n",
        "  ss = ss.translate(translator)\n",
        "  text = ss.split()\n",
        "  text_filtered = [word for word in text if not word in sw]\n",
        "  text_filtered = [re.sub(r'\\w*\\d\\w*', '', w) for w in text_filtered]\n",
        "  text_filtered = [w.lower() for w in text_filtered if len(w) > 2]\n",
        "  filtered_sentence=text_filtered\n",
        "  return  ' '.join(filtered_sentence)\n"
      ],
      "metadata": {
        "colab": {
          "base_uri": "https://localhost:8080/"
        },
        "id": "8ISG-2a2os9w",
        "outputId": "2fc69671-850b-4b55-9413-b9f73c0fd088"
      },
      "execution_count": 123,
      "outputs": [
        {
          "output_type": "stream",
          "name": "stderr",
          "text": [
            "[nltk_data] Downloading package stopwords to /root/nltk_data...\n",
            "[nltk_data]   Package stopwords is already up-to-date!\n",
            "[nltk_data] Downloading package punkt to /root/nltk_data...\n",
            "[nltk_data]   Package punkt is already up-to-date!\n"
          ]
        }
      ]
    },
    {
      "cell_type": "code",
      "source": [
        "df1['Summary_new'] = df1['Summary'].apply(remove_stopwords)"
      ],
      "metadata": {
        "id": "vK8XcL4WcwE4"
      },
      "execution_count": 124,
      "outputs": []
    },
    {
      "cell_type": "markdown",
      "source": [
        "Top 10 words in each score : Positive Score"
      ],
      "metadata": {
        "id": "7vUjq8YuFBMl"
      }
    },
    {
      "cell_type": "code",
      "source": [
        "df1.groupby('score_split')['Summary_new'].apply(lambda x: nltk.FreqDist(nltk.tokenize.word_tokenize(' '.join(x))).most_common(10))[\"Positive\"]"
      ],
      "metadata": {
        "colab": {
          "base_uri": "https://localhost:8080/"
        },
        "id": "yfwSKruxBx0Z",
        "outputId": "2843af30-2a5d-4762-b002-2747a222b87c"
      },
      "execution_count": 128,
      "outputs": [
        {
          "output_type": "execute_result",
          "data": {
            "text/plain": [
              "[('great', 46481),\n",
              " ('good', 29116),\n",
              " ('best', 22973),\n",
              " ('love', 16987),\n",
              " ('delicious', 13076),\n",
              " ('tea', 12736),\n",
              " ('coffee', 12545),\n",
              " ('product', 11445),\n",
              " ('the', 9578),\n",
              " ('excellent', 9147)]"
            ]
          },
          "metadata": {},
          "execution_count": 128
        }
      ]
    },
    {
      "cell_type": "code",
      "source": [
        "plist =\"\"\n",
        "for i in df1[df1['score_split'] == 'Positive']['Summary_new']:\n",
        "  plist = plist + i +' '"
      ],
      "metadata": {
        "id": "6arfRDO9dCvZ"
      },
      "execution_count": 134,
      "outputs": []
    },
    {
      "cell_type": "code",
      "source": [
        "wordcloud = WordCloud(max_font_size=50, max_words=50, background_color=\"white\").generate(plist)\n",
        "plt.figure()\n",
        "plt.imshow(wordcloud, interpolation=\"bilinear\")\n",
        "plt.axis(\"off\")\n",
        "plt.show()"
      ],
      "metadata": {
        "colab": {
          "base_uri": "https://localhost:8080/",
          "height": 285
        },
        "id": "cXAoY3glZ5KU",
        "outputId": "af242e4f-c2ca-470c-845a-fb03fa47b579"
      },
      "execution_count": null,
      "outputs": [
        {
          "output_type": "display_data",
          "data": {
            "text/plain": [
              "<Figure size 640x480 with 1 Axes>"
            ],
            "image/png": "[encoded data removed]"
          },
          "metadata": {}
        }
      ]
    },
    {
      "cell_type": "markdown",
      "source": [
        "Top 10 words in each score : Negative Score"
      ],
      "metadata": {
        "id": "6q_Dh_sOFP49"
      }
    },
    {
      "cell_type": "code",
      "source": [
        "nlist = df1.groupby('score_split')['Summary_new'].apply(lambda x: nltk.FreqDist(nltk.tokenize.word_tokenize(' '.join(x))).most_common(10))[\"Negative\"]\n",
        "nlist"
      ],
      "metadata": {
        "colab": {
          "base_uri": "https://localhost:8080/"
        },
        "id": "5tdzYlUrEEYu",
        "outputId": "59e2a298-ba85-4786-e91f-66521b18c3f4"
      },
      "execution_count": 129,
      "outputs": [
        {
          "output_type": "execute_result",
          "data": {
            "text/plain": [
              "[('not', 9817),\n",
              " ('good', 6426),\n",
              " ('taste', 4137),\n",
              " ('like', 3400),\n",
              " ('great', 3179),\n",
              " ('product', 2677),\n",
              " ('flavor', 2394),\n",
              " ('bad', 2367),\n",
              " ('coffee', 2150),\n",
              " ('dont', 1666)]"
            ]
          },
          "metadata": {},
          "execution_count": 129
        }
      ]
    },
    {
      "cell_type": "code",
      "source": [
        "nlist =\"\"\n",
        "for i in df1[df1['score_split'] == 'Negative']['Summary_new']:\n",
        "  nlist = nlist + i +' '"
      ],
      "metadata": {
        "id": "KJO3ZPbLdOm8"
      },
      "execution_count": 136,
      "outputs": []
    },
    {
      "cell_type": "code",
      "source": [
        "wordcloud = WordCloud(max_font_size=50, max_words=50, background_color=\"white\").generate(nlist)\n",
        "plt.figure()\n",
        "plt.imshow(wordcloud, interpolation=\"bilinear\")\n",
        "plt.axis(\"off\")\n",
        "plt.show()"
      ],
      "metadata": {
        "colab": {
          "base_uri": "https://localhost:8080/",
          "height": 285
        },
        "id": "l2g1l6hNeTZJ",
        "outputId": "4dd66a2f-86d9-434a-ee11-aa50594828aa"
      },
      "execution_count": null,
      "outputs": [
        {
          "output_type": "display_data",
          "data": {
            "text/plain": [
              "<Figure size 640x480 with 1 Axes>"
            ],
            "image/png": "[encoded data removed]"
          },
          "metadata": {}
        }
      ]
    },
    {
      "cell_type": "markdown",
      "source": [
        "Number of Reviews rated by  users"
      ],
      "metadata": {
        "id": "Q-TfxjYkKs0o"
      }
    },
    {
      "cell_type": "code",
      "source": [
        "print(df1[df1.HelpfulnessDenominator != 0].shape[0], \"out of \",df1.shape[0],\"rated reviews - {:.2f} %\".format(df1[df1.HelpfulnessDenominator != 0].shape[0]/df1.shape[0] * 100))"
      ],
      "metadata": {
        "colab": {
          "base_uri": "https://localhost:8080/"
        },
        "id": "Cv1jbhBjJBMt",
        "outputId": "86ebd581-7251-47bb-874c-9f07a6af8043"
      },
      "execution_count": 31,
      "outputs": [
        {
          "output_type": "stream",
          "name": "stdout",
          "text": [
            "209307 out of  393917 rated reviews - 53.13 %\n"
          ]
        }
      ]
    },
    {
      "cell_type": "markdown",
      "source": [
        "Split of Helpfulness of the reviews rated. Here total 209307 review are rated."
      ],
      "metadata": {
        "id": "FiosbZn-9TRW"
      }
    },
    {
      "cell_type": "code",
      "source": [
        "df2 = df1[df1['HelpfulnessDenominator']!=0].copy()\n",
        "df2['helpfullness']= df2['HelpfulnessNumerator'] / df2['HelpfulnessDenominator']"
      ],
      "metadata": {
        "id": "-xYPw2KpUGiw"
      },
      "execution_count": 32,
      "outputs": []
    },
    {
      "cell_type": "code",
      "source": [
        "def help_checker(x):\n",
        "  if x >= 0.75:\n",
        "    return '> 75%'\n",
        "  elif x ==0:\n",
        "    return 'No Rating'\n",
        "  elif x < 0.25:\n",
        "    return '< 25%'\n",
        "  else:\n",
        "    return '25 -75%'"
      ],
      "metadata": {
        "id": "0yQCZ_aCrGLX"
      },
      "execution_count": 33,
      "outputs": []
    },
    {
      "cell_type": "code",
      "source": [
        "h=df2['helpfullness'].apply(help_checker).value_counts()"
      ],
      "metadata": {
        "id": "cCzaGnigCWVG"
      },
      "execution_count": 34,
      "outputs": []
    },
    {
      "cell_type": "code",
      "source": [
        "df_help = pd.DataFrame()\n",
        "df_help['Percentage_of_Helpness'] = h.keys()\n",
        "df_help['No_of_reviews']= h.values"
      ],
      "metadata": {
        "id": "fZ-GJ385qoJS"
      },
      "execution_count": 35,
      "outputs": []
    },
    {
      "cell_type": "code",
      "source": [
        "sns.barplot(x=df_help['Percentage_of_Helpness'],y=df_help['No_of_reviews'])"
      ],
      "metadata": {
        "colab": {
          "base_uri": "https://localhost:8080/",
          "height": 467
        },
        "id": "OZodvnb-ChYf",
        "outputId": "82ee26e4-ea5c-40cf-d24b-3868b991d2cf"
      },
      "execution_count": 36,
      "outputs": [
        {
          "output_type": "execute_result",
          "data": {
            "text/plain": [
              "<Axes: xlabel='Percentage_of_Helpness', ylabel='No_of_reviews'>"
            ]
          },
          "metadata": {},
          "execution_count": 36
        },
        {
          "output_type": "display_data",
          "data": {
            "text/plain": [
              "<Figure size 640x480 with 1 Axes>"
            ],
            "image/png": "[encoded data removed]"
          },
          "metadata": {}
        }
      ]
    },
    {
      "cell_type": "markdown",
      "source": [
        "Highest and lowest rating for the products. Percentage wise product ratings for the entire data.\n"
      ],
      "metadata": {
        "id": "EmwA-Ab4tAJV"
      }
    },
    {
      "cell_type": "code",
      "source": [
        "df1['Score_percentage']=df.Score/5 *100"
      ],
      "metadata": {
        "id": "0SbQzLfAN6cm"
      },
      "execution_count": 37,
      "outputs": []
    },
    {
      "cell_type": "code",
      "source": [
        "df1.groupby('ProductId')['Score','Score_percentage'].agg({'Score':['min','max'],'Score_percentage':'mean'}).head(10)"
      ],
      "metadata": {
        "colab": {
          "base_uri": "https://localhost:8080/",
          "height": 425
        },
        "id": "3dgsMpqLPNF1",
        "outputId": "8460b6b7-09ea-4b08-8d04-809b9d6441b7"
      },
      "execution_count": 38,
      "outputs": [
        {
          "output_type": "execute_result",
          "data": {
            "text/plain": [
              "           Score     Score_percentage\n",
              "             min max             mean\n",
              "ProductId                            \n",
              "0006641040     1   5        87.027027\n",
              "141278509X     5   5       100.000000\n",
              "2734888454     2   5        70.000000\n",
              "2841233731     5   5       100.000000\n",
              "7310172001     1   5        94.941176\n",
              "7800648702     3   5        80.000000\n",
              "9376674501     5   5       100.000000\n",
              "B00002N8SM     1   5        35.789474\n",
              "B00002NCJC     4   5        90.000000\n",
              "B00002Z754     5   5       100.000000"
            ],
            "text/html": [
              "\n",
              "  <div id=\"df-829db698-ecad-494c-9de6-e73324318aa9\" class=\"colab-df-container\">\n",
              "    <div>\n",
              "<style scoped>\n",
              "    .dataframe tbody tr th:only-of-type {\n",
              "        vertical-align: middle;\n",
              "    }\n",
              "\n",
              "    .dataframe tbody tr th {\n",
              "        vertical-align: top;\n",
              "    }\n",
              "\n",
              "    .dataframe thead tr th {\n",
              "        text-align: left;\n",
              "    }\n",
              "\n",
              "    .dataframe thead tr:last-of-type th {\n",
              "        text-align: right;\n",
              "    }\n",
              "</style>\n",
              "<table border=\"1\" class=\"dataframe\">\n",
              "  <thead>\n",
              "    <tr>\n",
              "      <th></th>\n",
              "      <th colspan=\"2\" halign=\"left\">Score</th>\n",
              "      <th>Score_percentage</th>\n",
              "    </tr>\n",
              "    <tr>\n",
              "      <th></th>\n",
              "      <th>min</th>\n",
              "      <th>max</th>\n",
              "      <th>mean</th>\n",
              "    </tr>\n",
              "    <tr>\n",
              "      <th>ProductId</th>\n",
              "      <th></th>\n",
              "      <th></th>\n",
              "      <th></th>\n",
              "    </tr>\n",
              "  </thead>\n",
              "  <tbody>\n",
              "    <tr>\n",
              "      <th>0006641040</th>\n",
              "      <td>1</td>\n",
              "      <td>5</td>\n",
              "      <td>87.027027</td>\n",
              "    </tr>\n",
              "    <tr>\n",
              "      <th>141278509X</th>\n",
              "      <td>5</td>\n",
              "      <td>5</td>\n",
              "      <td>100.000000</td>\n",
              "    </tr>\n",
              "    <tr>\n",
              "      <th>2734888454</th>\n",
              "      <td>2</td>\n",
              "      <td>5</td>\n",
              "      <td>70.000000</td>\n",
              "    </tr>\n",
              "    <tr>\n",
              "      <th>2841233731</th>\n",
              "      <td>5</td>\n",
              "      <td>5</td>\n",
              "      <td>100.000000</td>\n",
              "    </tr>\n",
              "    <tr>\n",
              "      <th>7310172001</th>\n",
              "      <td>1</td>\n",
              "      <td>5</td>\n",
              "      <td>94.941176</td>\n",
              "    </tr>\n",
              "    <tr>\n",
              "      <th>7800648702</th>\n",
              "      <td>3</td>\n",
              "      <td>5</td>\n",
              "      <td>80.000000</td>\n",
              "    </tr>\n",
              "    <tr>\n",
              "      <th>9376674501</th>\n",
              "      <td>5</td>\n",
              "      <td>5</td>\n",
              "      <td>100.000000</td>\n",
              "    </tr>\n",
              "    <tr>\n",
              "      <th>B00002N8SM</th>\n",
              "      <td>1</td>\n",
              "      <td>5</td>\n",
              "      <td>35.789474</td>\n",
              "    </tr>\n",
              "    <tr>\n",
              "      <th>B00002NCJC</th>\n",
              "      <td>4</td>\n",
              "      <td>5</td>\n",
              "      <td>90.000000</td>\n",
              "    </tr>\n",
              "    <tr>\n",
              "      <th>B00002Z754</th>\n",
              "      <td>5</td>\n",
              "      <td>5</td>\n",
              "      <td>100.000000</td>\n",
              "    </tr>\n",
              "  </tbody>\n",
              "</table>\n",
              "</div>\n",
              "    <div class=\"colab-df-buttons\">\n",
              "\n",
              "  <div class=\"colab-df-container\">\n",
              "    <button class=\"colab-df-convert\" onclick=\"convertToInteractive('df-829db698-ecad-494c-9de6-e73324318aa9')\"\n",
              "            title=\"Convert this dataframe to an interactive table.\"\n",
              "            style=\"display:none;\">\n",
              "\n",
              "  <svg xmlns=\"http://www.w3.org/2000/svg\" height=\"24px\" viewBox=\"0 -960 960 960\">\n",
              "    <path d=\"M120-120v-720h720v720H120Zm60-500h600v-160H180v160Zm220 220h160v-160H400v160Zm0 220h160v-160H400v160ZM180-400h160v-160H180v160Zm440 0h160v-160H620v160ZM180-180h160v-160H180v160Zm440 0h160v-160H620v160Z\"/>\n",
              "  </svg>\n",
              "    </button>\n",
              "\n",
              "  <style>\n",
              "    .colab-df-container {\n",
              "      display:flex;\n",
              "      gap: 12px;\n",
              "    }\n",
              "\n",
              "    .colab-df-convert {\n",
              "      background-color: #E8F0FE;\n",
              "      border: none;\n",
              "      border-radius: 50%;\n",
              "      cursor: pointer;\n",
              "      display: none;\n",
              "      fill: #1967D2;\n",
              "      height: 32px;\n",
              "      padding: 0 0 0 0;\n",
              "      width: 32px;\n",
              "    }\n",
              "\n",
              "    .colab-df-convert:hover {\n",
              "      background-color: #E2EBFA;\n",
              "      box-shadow: 0px 1px 2px rgba(60, 64, 67, 0.3), 0px 1px 3px 1px rgba(60, 64, 67, 0.15);\n",
              "      fill: #174EA6;\n",
              "    }\n",
              "\n",
              "    .colab-df-buttons div {\n",
              "      margin-bottom: 4px;\n",
              "    }\n",
              "\n",
              "    [theme=dark] .colab-df-convert {\n",
              "      background-color: #3B4455;\n",
              "      fill: #D2E3FC;\n",
              "    }\n",
              "\n",
              "    [theme=dark] .colab-df-convert:hover {\n",
              "      background-color: #434B5C;\n",
              "      box-shadow: 0px 1px 3px 1px rgba(0, 0, 0, 0.15);\n",
              "      filter: drop-shadow(0px 1px 2px rgba(0, 0, 0, 0.3));\n",
              "      fill: #FFFFFF;\n",
              "    }\n",
              "  </style>\n",
              "\n",
              "    <script>\n",
              "      const buttonEl =\n",
              "        document.querySelector('#df-829db698-ecad-494c-9de6-e73324318aa9 button.colab-df-convert');\n",
              "      buttonEl.style.display =\n",
              "        google.colab.kernel.accessAllowed ? 'block' : 'none';\n",
              "\n",
              "      async function convertToInteractive(key) {\n",
              "        const element = document.querySelector('#df-829db698-ecad-494c-9de6-e73324318aa9');\n",
              "        const dataTable =\n",
              "          await google.colab.kernel.invokeFunction('convertToInteractive',\n",
              "                                                    [key], {});\n",
              "        if (!dataTable) return;\n",
              "\n",
              "        const docLinkHtml = 'Like what you see? Visit the ' +\n",
              "          '<a target=\"_blank\" href=https://colab.research.google.com/notebooks/data_table.ipynb>data table notebook</a>'\n",
              "          + ' to learn more about interactive tables.';\n",
              "        element.innerHTML = '';\n",
              "        dataTable['output_type'] = 'display_data';\n",
              "        await google.colab.output.renderOutput(dataTable, element);\n",
              "        const docLink = document.createElement('div');\n",
              "        docLink.innerHTML = docLinkHtml;\n",
              "        element.appendChild(docLink);\n",
              "      }\n",
              "    </script>\n",
              "  </div>\n",
              "\n",
              "\n",
              "<div id=\"df-89628f9d-b0dc-4ffd-8f0d-73f5338c5dcd\">\n",
              "  <button class=\"colab-df-quickchart\" onclick=\"quickchart('df-89628f9d-b0dc-4ffd-8f0d-73f5338c5dcd')\"\n",
              "            title=\"Suggest charts.\"\n",
              "            style=\"display:none;\">\n",
              "\n",
              "<svg xmlns=\"http://www.w3.org/2000/svg\" height=\"24px\"viewBox=\"0 0 24 24\"\n",
              "     width=\"24px\">\n",
              "    <g>\n",
              "        <path d=\"M19 3H5c-1.1 0-2 .9-2 2v14c0 1.1.9 2 2 2h14c1.1 0 2-.9 2-2V5c0-1.1-.9-2-2-2zM9 17H7v-7h2v7zm4 0h-2V7h2v10zm4 0h-2v-4h2v4z\"/>\n",
              "    </g>\n",
              "</svg>\n",
              "  </button>\n",
              "\n",
              "<style>\n",
              "  .colab-df-quickchart {\n",
              "      --bg-color: #E8F0FE;\n",
              "      --fill-color: #1967D2;\n",
              "      --hover-bg-color: #E2EBFA;\n",
              "      --hover-fill-color: #174EA6;\n",
              "      --disabled-fill-color: #AAA;\n",
              "      --disabled-bg-color: #DDD;\n",
              "  }\n",
              "\n",
              "  [theme=dark] .colab-df-quickchart {\n",
              "      --bg-color: #3B4455;\n",
              "      --fill-color: #D2E3FC;\n",
              "      --hover-bg-color: #434B5C;\n",
              "      --hover-fill-color: #FFFFFF;\n",
              "      --disabled-bg-color: #3B4455;\n",
              "      --disabled-fill-color: #666;\n",
              "  }\n",
              "\n",
              "  .colab-df-quickchart {\n",
              "    background-color: var(--bg-color);\n",
              "    border: none;\n",
              "    border-radius: 50%;\n",
              "    cursor: pointer;\n",
              "    display: none;\n",
              "    fill: var(--fill-color);\n",
              "    height: 32px;\n",
              "    padding: 0;\n",
              "    width: 32px;\n",
              "  }\n",
              "\n",
              "  .colab-df-quickchart:hover {\n",
              "    background-color: var(--hover-bg-color);\n",
              "    box-shadow: 0 1px 2px rgba(60, 64, 67, 0.3), 0 1px 3px 1px rgba(60, 64, 67, 0.15);\n",
              "    fill: var(--button-hover-fill-color);\n",
              "  }\n",
              "\n",
              "  .colab-df-quickchart-complete:disabled,\n",
              "  .colab-df-quickchart-complete:disabled:hover {\n",
              "    background-color: var(--disabled-bg-color);\n",
              "    fill: var(--disabled-fill-color);\n",
              "    box-shadow: none;\n",
              "  }\n",
              "\n",
              "  .colab-df-spinner {\n",
              "    border: 2px solid var(--fill-color);\n",
              "    border-color: transparent;\n",
              "    border-bottom-color: var(--fill-color);\n",
              "    animation:\n",
              "      spin 1s steps(1) infinite;\n",
              "  }\n",
              "\n",
              "  @keyframes spin {\n",
              "    0% {\n",
              "      border-color: transparent;\n",
              "      border-bottom-color: var(--fill-color);\n",
              "      border-left-color: var(--fill-color);\n",
              "    }\n",
              "    20% {\n",
              "      border-color: transparent;\n",
              "      border-left-color: var(--fill-color);\n",
              "      border-top-color: var(--fill-color);\n",
              "    }\n",
              "    30% {\n",
              "      border-color: transparent;\n",
              "      border-left-color: var(--fill-color);\n",
              "      border-top-color: var(--fill-color);\n",
              "      border-right-color: var(--fill-color);\n",
              "    }\n",
              "    40% {\n",
              "      border-color: transparent;\n",
              "      border-right-color: var(--fill-color);\n",
              "      border-top-color: var(--fill-color);\n",
              "    }\n",
              "    60% {\n",
              "      border-color: transparent;\n",
              "      border-right-color: var(--fill-color);\n",
              "    }\n",
              "    80% {\n",
              "      border-color: transparent;\n",
              "      border-right-color: var(--fill-color);\n",
              "      border-bottom-color: var(--fill-color);\n",
              "    }\n",
              "    90% {\n",
              "      border-color: transparent;\n",
              "      border-bottom-color: var(--fill-color);\n",
              "    }\n",
              "  }\n",
              "</style>\n",
              "\n",
              "  <script>\n",
              "    async function quickchart(key) {\n",
              "      const quickchartButtonEl =\n",
              "        document.querySelector('#' + key + ' button');\n",
              "      quickchartButtonEl.disabled = true;  // To prevent multiple clicks.\n",
              "      quickchartButtonEl.classList.add('colab-df-spinner');\n",
              "      try {\n",
              "        const charts = await google.colab.kernel.invokeFunction(\n",
              "            'suggestCharts', [key], {});\n",
              "      } catch (error) {\n",
              "        console.error('Error during call to suggestCharts:', error);\n",
              "      }\n",
              "      quickchartButtonEl.classList.remove('colab-df-spinner');\n",
              "      quickchartButtonEl.classList.add('colab-df-quickchart-complete');\n",
              "    }\n",
              "    (() => {\n",
              "      let quickchartButtonEl =\n",
              "        document.querySelector('#df-89628f9d-b0dc-4ffd-8f0d-73f5338c5dcd button');\n",
              "      quickchartButtonEl.style.display =\n",
              "        google.colab.kernel.accessAllowed ? 'block' : 'none';\n",
              "    })();\n",
              "  </script>\n",
              "</div>\n",
              "    </div>\n",
              "  </div>\n"
            ]
          },
          "metadata": {},
          "execution_count": 38
        }
      ]
    },
    {
      "cell_type": "markdown",
      "source": [
        "Total number of reviews by unique profiles. How many customers or profiles have reviewed more than one product?"
      ],
      "metadata": {
        "id": "1aGqofSAvSHC"
      }
    },
    {
      "cell_type": "code",
      "source": [
        "df1['user_counter'] = df.UserId.map(df[\"UserId\"].value_counts())"
      ],
      "metadata": {
        "id": "See0UkOchF9H"
      },
      "execution_count": 39,
      "outputs": []
    },
    {
      "cell_type": "code",
      "source": [
        "print(\"Total number of reviews by unique profiles : \", df1[df1['user_counter'] == 1].shape[0], \"/\",df1.shape[0])"
      ],
      "metadata": {
        "colab": {
          "base_uri": "https://localhost:8080/"
        },
        "id": "dSgliOb-vopG",
        "outputId": "bbe54de1-fe34-4612-adde-38e03f30c7c3"
      },
      "execution_count": 40,
      "outputs": [
        {
          "output_type": "stream",
          "name": "stdout",
          "text": [
            "Total number of reviews by unique profiles :  175383 / 393917\n"
          ]
        }
      ]
    },
    {
      "cell_type": "code",
      "source": [
        "print(\"Total number of customers or profiles have reviewed more than one products : \", df1[df1['user_counter'] != 1].shape[0], \"/\",df1.shape[0])"
      ],
      "metadata": {
        "colab": {
          "base_uri": "https://localhost:8080/"
        },
        "id": "-JKXKihUv2VX",
        "outputId": "51166c19-6999-4c7d-a29d-03727a8bc4b4"
      },
      "execution_count": 41,
      "outputs": [
        {
          "output_type": "stream",
          "name": "stdout",
          "text": [
            "Total number of customers or profiles have reviewed more than one products :  218534 / 393917\n"
          ]
        }
      ]
    },
    {
      "cell_type": "code",
      "source": [],
      "metadata": {
        "id": "14Ax8bDyamI1"
      },
      "execution_count": 41,
      "outputs": []
    },
    {
      "cell_type": "markdown",
      "source": [
        "Frequency of reviewers"
      ],
      "metadata": {
        "id": "JFsJ8NbDZYUc"
      }
    },
    {
      "cell_type": "code",
      "source": [
        "df3 = df1.groupby('UserId')['ProductId'].count().reset_index(name='count').sort_values('count', ascending=False)"
      ],
      "metadata": {
        "id": "qI94mf_ny27a"
      },
      "execution_count": 42,
      "outputs": []
    },
    {
      "cell_type": "code",
      "source": [
        "def freq_checker(x):\n",
        "  if x > 50:\n",
        "    return 'Frequent'\n",
        "  else :\n",
        "    return 'Not Frequent'"
      ],
      "metadata": {
        "id": "dSZqthaqM2FO"
      },
      "execution_count": 43,
      "outputs": []
    },
    {
      "cell_type": "code",
      "source": [
        "df3['freq_user']= df3['count'].apply(freq_checker)"
      ],
      "metadata": {
        "id": "xD5m6ndNOM-S"
      },
      "execution_count": 44,
      "outputs": []
    },
    {
      "cell_type": "code",
      "source": [
        "df1[\"freq_user\"]= df1[\"UserId\"].map(dict(zip(df3[\"UserId\"], df3[\"freq_user\"])))"
      ],
      "metadata": {
        "id": "CY51HHEXWHQN"
      },
      "execution_count": 45,
      "outputs": []
    },
    {
      "cell_type": "code",
      "source": [
        "sns.countplot(x ='Score', hue = \"freq_user\", data = df1)\n",
        "plt.show()"
      ],
      "metadata": {
        "colab": {
          "base_uri": "https://localhost:8080/",
          "height": 449
        },
        "id": "k-ttRAUtXibs",
        "outputId": "07476c87-c2d5-4766-a14f-a65b7b3319cf"
      },
      "execution_count": 46,
      "outputs": [
        {
          "output_type": "display_data",
          "data": {
            "text/plain": [
              "<Figure size 640x480 with 1 Axes>"
            ],
            "image/png": "[encoded data removed]"
          },
          "metadata": {}
        }
      ]
    },
    {
      "cell_type": "markdown",
      "source": [
        "## Preprocessing"
      ],
      "metadata": {
        "id": "tB_nkfpuGLyH"
      }
    },
    {
      "cell_type": "markdown",
      "source": [
        "Cleaning already done before EDA.Now preprocessing"
      ],
      "metadata": {
        "id": "HcbJKuclmbzX"
      }
    },
    {
      "cell_type": "code",
      "source": [
        "df1.reset_index(inplace=True)"
      ],
      "metadata": {
        "id": "D-4nt-7Hmz_B"
      },
      "execution_count": 47,
      "outputs": []
    },
    {
      "cell_type": "code",
      "source": [
        "df1.shape"
      ],
      "metadata": {
        "colab": {
          "base_uri": "https://localhost:8080/"
        },
        "id": "PUpsbp7WGQTR",
        "outputId": "8948cc25-5475-42e7-87eb-5829b55bf27d"
      },
      "execution_count": 48,
      "outputs": [
        {
          "output_type": "execute_result",
          "data": {
            "text/plain": [
              "(393917, 16)"
            ]
          },
          "metadata": {},
          "execution_count": 48
        }
      ]
    },
    {
      "cell_type": "code",
      "source": [
        "nltk.download('stopwords')\n",
        "stopwords = set(stopwords.words('english'))"
      ],
      "metadata": {
        "colab": {
          "base_uri": "https://localhost:8080/"
        },
        "id": "jljcTvUX0R3I",
        "outputId": "6b9a3801-3a90-43fa-d353-437d2fe46859"
      },
      "execution_count": 49,
      "outputs": [
        {
          "output_type": "stream",
          "name": "stderr",
          "text": [
            "[nltk_data] Downloading package stopwords to /root/nltk_data...\n",
            "[nltk_data]   Package stopwords is already up-to-date!\n"
          ]
        }
      ]
    },
    {
      "cell_type": "code",
      "source": [
        "def htmltagclean(sen):\n",
        "  return (re.sub('<.*?>','',sen)).strip()\n",
        "\n",
        "def punclean(sen):\n",
        "  cleaned =  re.sub(r'[? | ! | \\' | \"| # | -]',' ',sen)\n",
        "  return (re.sub(r'[. | , | ) | ( | \\ |/ | < | >]',' ',cleaned)).strip()\n",
        "\n",
        "def decontracted(sen):\n",
        "    phrase = re.sub(r\"won't\", \"will not\", sen)\n",
        "    phrase = re.sub(r\"http\\S+\", '', phrase)\n",
        "    phrase = re.sub(r\"can't\", \"can not\", phrase)\n",
        "    phrase = re.sub(r\"n\\'t\", \" not\", phrase)\n",
        "    phrase = re.sub(r\"\\'re\", \" are\", phrase)\n",
        "    phrase = re.sub(r\"\\'s\", \" is\", phrase)\n",
        "    phrase = re.sub(r\"\\'d\", \" would\", phrase)\n",
        "    phrase = re.sub(r\"\\'ll\", \" will\", phrase)\n",
        "    phrase = re.sub(r\"\\'t\", \" not\", phrase)\n",
        "    phrase = re.sub(r\"\\'ve\", \" have\", phrase)\n",
        "    phrase = re.sub(r\"\\'m\", \" am\", phrase)\n",
        "    return phrase"
      ],
      "metadata": {
        "id": "KLe31-Z11n98"
      },
      "execution_count": 50,
      "outputs": []
    },
    {
      "cell_type": "code",
      "source": [
        "pp_rev=list()\n",
        "pp_sen=list()\n",
        "for sentence in tqdm(df1.Text.values):\n",
        "    sentence = BeautifulSoup(sentence, 'lxml').get_text()\n",
        "    sentence = htmltagclean(punclean(decontracted(sentence)))\n",
        "    sentence = re.sub(\"\\S*\\d\\S*\", \"\", sentence).strip()\n",
        "    sentence = re.sub('[^A-Za-z]+', ' ', sentence)\n",
        "    sentence = ' '.join(e.lower() for e in sentence.split() if e.lower() not in stopwords)\n",
        "    pp_sen.append(sentence)\n",
        "    pp_rev.append(sentence.strip())"
      ],
      "metadata": {
        "colab": {
          "base_uri": "https://localhost:8080/"
        },
        "id": "B5wFAmqH6oJE",
        "outputId": "17704d78-59d3-4734-ffa9-cd560b0eb2a9"
      },
      "execution_count": 51,
      "outputs": [
        {
          "output_type": "stream",
          "name": "stderr",
          "text": [
            "100%|██████████| 393917/393917 [03:37<00:00, 1813.82it/s]\n"
          ]
        }
      ]
    },
    {
      "cell_type": "code",
      "source": [
        "df1[\"processed_text\"] = pp_rev"
      ],
      "metadata": {
        "id": "nkOYjTQRkBuP"
      },
      "execution_count": 52,
      "outputs": []
    },
    {
      "cell_type": "code",
      "source": [
        "def conv_score(x):\n",
        "  if x == 'Positive':\n",
        "    return 1\n",
        "  else:\n",
        "    return 0"
      ],
      "metadata": {
        "id": "NK4_tcJEfd4R"
      },
      "execution_count": 53,
      "outputs": []
    },
    {
      "cell_type": "code",
      "source": [
        "df1['score_split']=df1['score_split'].apply(conv_score)"
      ],
      "metadata": {
        "id": "uKdNh-fFgXBz"
      },
      "execution_count": 54,
      "outputs": []
    },
    {
      "cell_type": "code",
      "source": [
        "xtrain, xtest, ytrain, ytest = train_test_split(df1[\"processed_text\"], df1['score_split'], test_size = 0.2, stratify=df1['score_split'])"
      ],
      "metadata": {
        "id": "mxEbNyj2NjqM"
      },
      "execution_count": 55,
      "outputs": []
    },
    {
      "cell_type": "markdown",
      "source": [
        "BAG OF WORDS"
      ],
      "metadata": {
        "id": "YosLCzJ-pOQA"
      }
    },
    {
      "cell_type": "code",
      "source": [
        "cv = CountVectorizer()\n",
        "cv.fit(xtrain)"
      ],
      "metadata": {
        "colab": {
          "base_uri": "https://localhost:8080/",
          "height": 74
        },
        "id": "0jLO80GymJzx",
        "outputId": "52cd51ec-538e-4eec-db01-aa830a7e341e"
      },
      "execution_count": 56,
      "outputs": [
        {
          "output_type": "execute_result",
          "data": {
            "text/plain": [
              "CountVectorizer()"
            ],
            "text/html": [
              "<style>#sk-container-id-1 {color: black;background-color: white;}#sk-container-id-1 pre{padding: 0;}#sk-container-id-1 div.sk-toggleable {background-color: white;}#sk-container-id-1 label.sk-toggleable__label {cursor: pointer;display: block;width: 100%;margin-bottom: 0;padding: 0.3em;box-sizing: border-box;text-align: center;}#sk-container-id-1 label.sk-toggleable__label-arrow:before {content: \"▸\";float: left;margin-right: 0.25em;color: #696969;}#sk-container-id-1 label.sk-toggleable__label-arrow:hover:before {color: black;}#sk-container-id-1 div.sk-estimator:hover label.sk-toggleable__label-arrow:before {color: black;}#sk-container-id-1 div.sk-toggleable__content {max-height: 0;max-width: 0;overflow: hidden;text-align: left;background-color: #f0f8ff;}#sk-container-id-1 div.sk-toggleable__content pre {margin: 0.2em;color: black;border-radius: 0.25em;background-color: #f0f8ff;}#sk-container-id-1 input.sk-toggleable__control:checked~div.sk-toggleable__content {max-height: 200px;max-width: 100%;overflow: auto;}#sk-container-id-1 input.sk-toggleable__control:checked~label.sk-toggleable__label-arrow:before {content: \"▾\";}#sk-container-id-1 div.sk-estimator input.sk-toggleable__control:checked~label.sk-toggleable__label {background-color: #d4ebff;}#sk-container-id-1 div.sk-label input.sk-toggleable__control:checked~label.sk-toggleable__label {background-color: #d4ebff;}#sk-container-id-1 input.sk-hidden--visually {border: 0;clip: rect(1px 1px 1px 1px);clip: rect(1px, 1px, 1px, 1px);height: 1px;margin: -1px;overflow: hidden;padding: 0;position: absolute;width: 1px;}#sk-container-id-1 div.sk-estimator {font-family: monospace;background-color: #f0f8ff;border: 1px dotted black;border-radius: 0.25em;box-sizing: border-box;margin-bottom: 0.5em;}#sk-container-id-1 div.sk-estimator:hover {background-color: #d4ebff;}#sk-container-id-1 div.sk-parallel-item::after {content: \"\";width: 100%;border-bottom: 1px solid gray;flex-grow: 1;}#sk-container-id-1 div.sk-label:hover label.sk-toggleable__label {background-color: #d4ebff;}#sk-container-id-1 div.sk-serial::before {content: \"\";position: absolute;border-left: 1px solid gray;box-sizing: border-box;top: 0;bottom: 0;left: 50%;z-index: 0;}#sk-container-id-1 div.sk-serial {display: flex;flex-direction: column;align-items: center;background-color: white;padding-right: 0.2em;padding-left: 0.2em;position: relative;}#sk-container-id-1 div.sk-item {position: relative;z-index: 1;}#sk-container-id-1 div.sk-parallel {display: flex;align-items: stretch;justify-content: center;background-color: white;position: relative;}#sk-container-id-1 div.sk-item::before, #sk-container-id-1 div.sk-parallel-item::before {content: \"\";position: absolute;border-left: 1px solid gray;box-sizing: border-box;top: 0;bottom: 0;left: 50%;z-index: -1;}#sk-container-id-1 div.sk-parallel-item {display: flex;flex-direction: column;z-index: 1;position: relative;background-color: white;}#sk-container-id-1 div.sk-parallel-item:first-child::after {align-self: flex-end;width: 50%;}#sk-container-id-1 div.sk-parallel-item:last-child::after {align-self: flex-start;width: 50%;}#sk-container-id-1 div.sk-parallel-item:only-child::after {width: 0;}#sk-container-id-1 div.sk-dashed-wrapped {border: 1px dashed gray;margin: 0 0.4em 0.5em 0.4em;box-sizing: border-box;padding-bottom: 0.4em;background-color: white;}#sk-container-id-1 div.sk-label label {font-family: monospace;font-weight: bold;display: inline-block;line-height: 1.2em;}#sk-container-id-1 div.sk-label-container {text-align: center;}#sk-container-id-1 div.sk-container {/* jupyter's `normalize.less` sets `[hidden] { display: none; }` but bootstrap.min.css set `[hidden] { display: none !important; }` so we also need the `!important` here to be able to override the default hidden behavior on the sphinx rendered scikit-learn.org. See: https://github.com/scikit-learn/scikit-learn/issues/21755 */display: inline-block !important;position: relative;}#sk-container-id-1 div.sk-text-repr-fallback {display: none;}</style><div id=\"sk-container-id-1\" class=\"sk-top-container\"><div class=\"sk-text-repr-fallback\"><pre>CountVectorizer()</pre><b>In a Jupyter environment, please rerun this cell to show the HTML representation or trust the notebook. <br />On GitHub, the HTML representation is unable to render, please try loading this page with nbviewer.org.</b></div><div class=\"sk-container\" hidden><div class=\"sk-item\"><div class=\"sk-estimator sk-toggleable\"><input class=\"sk-toggleable__control sk-hidden--visually\" id=\"sk-estimator-id-1\" type=\"checkbox\" checked><label for=\"sk-estimator-id-1\" class=\"sk-toggleable__label sk-toggleable__label-arrow\">CountVectorizer</label><div class=\"sk-toggleable__content\"><pre>CountVectorizer()</pre></div></div></div></div></div>"
            ]
          },
          "metadata": {},
          "execution_count": 56
        }
      ]
    },
    {
      "cell_type": "code",
      "source": [
        "print(\"Some Feature Names \", cv.get_feature_names_out()[100:110])"
      ],
      "metadata": {
        "colab": {
          "base_uri": "https://localhost:8080/"
        },
        "id": "mhs_GCsGm4zG",
        "outputId": "931e6100-c0b9-4140-af44-919505fb2e10"
      },
      "execution_count": 57,
      "outputs": [
        {
          "output_type": "stream",
          "name": "stdout",
          "text": [
            "Some Feature Names  ['abdomen' 'abdominal' 'abduct' 'abdul' 'abdy' 'abe' 'abeautiful' 'abeja'\n",
            " 'abejas' 'abel']\n"
          ]
        }
      ]
    },
    {
      "cell_type": "code",
      "source": [
        "bgw_cv_train = cv.transform(xtrain)\n",
        "bgw_cv_test = cv.transform(xtest)"
      ],
      "metadata": {
        "id": "IJO22OJAodLx"
      },
      "execution_count": 58,
      "outputs": []
    },
    {
      "cell_type": "markdown",
      "source": [
        "TF-IDF"
      ],
      "metadata": {
        "id": "W__NYRgzt7bl"
      }
    },
    {
      "cell_type": "code",
      "source": [
        "tfidf = TfidfVectorizer(ngram_range=(1,2), min_df=10)\n",
        "tfidf.fit(xtrain)\n",
        "train_tfidf = tfidf.transform(xtrain)\n",
        "test_tfidf = tfidf.transform(xtest)\n",
        "print(\"Some Feature Names \", tfidf.get_feature_names_out()[100:110])"
      ],
      "metadata": {
        "colab": {
          "base_uri": "https://localhost:8080/"
        },
        "id": "OUNBTK3Ht86x",
        "outputId": "c5fa42fb-ba41-4372-b8e6-6aa0eb14eac7"
      },
      "execution_count": 59,
      "outputs": [
        {
          "output_type": "stream",
          "name": "stdout",
          "text": [
            "Some Feature Names  ['able resist' 'able return' 'able run' 'able salvage' 'able sample'\n",
            " 'able satisfy' 'able save' 'able say' 'able see' 'able sell']\n"
          ]
        }
      ]
    },
    {
      "cell_type": "markdown",
      "source": [
        "Word2Vec"
      ],
      "metadata": {
        "id": "Dj_R70PfLdK0"
      }
    },
    {
      "cell_type": "code",
      "source": [
        "\n",
        "ls_train,ls_test=list(), list()\n",
        "for s in xtrain:\n",
        "  ls_train.append(s.split())\n",
        "w2v_model_train=Word2Vec(ls_train,min_count = 5, vector_size=50 , workers=4)\n",
        "w2v_words_train = list(w2v_model_train.wv.index_to_key)\n",
        "print(\"Sample Words : \", w2v_words_train[0:50])"
      ],
      "metadata": {
        "id": "VtJp9Xrh-jFQ",
        "colab": {
          "base_uri": "https://localhost:8080/"
        },
        "outputId": "dbc318ba-ac95-4c52-f567-76f4f3e000f4"
      },
      "execution_count": 60,
      "outputs": [
        {
          "output_type": "stream",
          "name": "stdout",
          "text": [
            "Sample Words :  ['like', 'good', 'taste', 'one', 'great', 'would', 'product', 'flavor', 'coffee', 'tea', 'love', 'get', 'really', 'food', 'much', 'amazon', 'use', 'also', 'time', 'little', 'buy', 'price', 'best', 'find', 'make', 'well', 'even', 'tried', 'better', 'try', 'chocolate', 'eat', 'sugar', 'water', 'first', 'used', 'could', 'found', 'sweet', 'made', 'bag', 'box', 'drink', 'cup', 'bought', 'dog', 'free', 'way', 'think', 'store']\n"
          ]
        }
      ]
    },
    {
      "cell_type": "code",
      "source": [
        "for s in xtest:\n",
        "  ls_test.append(s.split())\n",
        "w2v_model_test=Word2Vec(ls_test,min_count = 5, vector_size=50 , workers=4)\n",
        "w2v_words_test = list(w2v_model_test.wv.index_to_key)"
      ],
      "metadata": {
        "id": "So4IFPOKvpTT"
      },
      "execution_count": 61,
      "outputs": []
    },
    {
      "cell_type": "markdown",
      "source": [
        "## Model Building"
      ],
      "metadata": {
        "id": "0BzXfumnWRpW"
      }
    },
    {
      "cell_type": "markdown",
      "source": [
        "Logistic Regression with bag of words\n",
        "\n"
      ],
      "metadata": {
        "id": "HYjTAZsRdaBW"
      }
    },
    {
      "cell_type": "code",
      "source": [
        "sc = StandardScaler(with_mean=False)\n",
        "X_train_bow = sc.fit_transform(bgw_cv_train)\n",
        "X_test_bow = sc.transform(bgw_cv_test)\n",
        "\n",
        "C2 = 0.01\n",
        "LGR1=LogisticRegression(penalty='l1',C=C2,solver='liblinear',max_iter=500)"
      ],
      "metadata": {
        "id": "g9FuY17SWPY5"
      },
      "execution_count": 62,
      "outputs": []
    },
    {
      "cell_type": "code",
      "source": [
        "LGR1.fit(X_train_bow, ytrain)\n",
        "pred = LGR1.predict(X_test_bow)\n",
        "accuracy_score(ytest, pred)"
      ],
      "metadata": {
        "id": "xs8_2yXUNyPP",
        "colab": {
          "base_uri": "https://localhost:8080/"
        },
        "outputId": "11dbe752-2301-49f2-c69f-d1ccc6179087"
      },
      "execution_count": 63,
      "outputs": [
        {
          "output_type": "execute_result",
          "data": {
            "text/plain": [
              "0.8829330828594638"
            ]
          },
          "metadata": {},
          "execution_count": 63
        }
      ]
    },
    {
      "cell_type": "code",
      "source": [
        "print(classification_report(ytest, pred))"
      ],
      "metadata": {
        "colab": {
          "base_uri": "https://localhost:8080/"
        },
        "id": "sRPXZQN5XYjr",
        "outputId": "99437dfc-769d-4fbb-e06f-e04f713a3f99"
      },
      "execution_count": 64,
      "outputs": [
        {
          "output_type": "stream",
          "name": "stdout",
          "text": [
            "              precision    recall  f1-score   support\n",
            "\n",
            "           0       0.79      0.64      0.71     17375\n",
            "           1       0.90      0.95      0.93     61409\n",
            "\n",
            "    accuracy                           0.88     78784\n",
            "   macro avg       0.85      0.80      0.82     78784\n",
            "weighted avg       0.88      0.88      0.88     78784\n",
            "\n"
          ]
        }
      ]
    },
    {
      "cell_type": "markdown",
      "source": [
        "Logistic Regression with TF -IDF"
      ],
      "metadata": {
        "id": "YmEl4yxBTQss"
      }
    },
    {
      "cell_type": "code",
      "source": [
        "X_train_tfidf = sc.fit_transform(train_tfidf)\n",
        "X_test_tfidf = sc.transform(test_tfidf)\n",
        "\n",
        "C1 =0.01\n",
        "LGR1=LogisticRegression(penalty='l1',C=C1,solver='liblinear',max_iter=500)"
      ],
      "metadata": {
        "id": "JCnIUaqViqah"
      },
      "execution_count": 65,
      "outputs": []
    },
    {
      "cell_type": "code",
      "source": [
        "LGR1.fit(X_train_tfidf, ytrain)\n",
        "pred = LGR1.predict(X_test_tfidf)\n",
        "accuracy_score(ytest, pred)"
      ],
      "metadata": {
        "colab": {
          "base_uri": "https://localhost:8080/"
        },
        "id": "H0wfVrTXjHOI",
        "outputId": "4fe8dca5-b51e-4c34-ce7b-6ad49aa1ebe1"
      },
      "execution_count": 66,
      "outputs": [
        {
          "output_type": "execute_result",
          "data": {
            "text/plain": [
              "0.891158103168156"
            ]
          },
          "metadata": {},
          "execution_count": 66
        }
      ]
    },
    {
      "cell_type": "code",
      "source": [
        "print(classification_report(ytest, pred))"
      ],
      "metadata": {
        "colab": {
          "base_uri": "https://localhost:8080/"
        },
        "id": "LXCgcUSIXfHx",
        "outputId": "6f88dc96-c3ed-4a05-b111-744e1e15bf99"
      },
      "execution_count": 67,
      "outputs": [
        {
          "output_type": "stream",
          "name": "stdout",
          "text": [
            "              precision    recall  f1-score   support\n",
            "\n",
            "           0       0.78      0.70      0.74     17375\n",
            "           1       0.92      0.94      0.93     61409\n",
            "\n",
            "    accuracy                           0.89     78784\n",
            "   macro avg       0.85      0.82      0.84     78784\n",
            "weighted avg       0.89      0.89      0.89     78784\n",
            "\n"
          ]
        }
      ]
    },
    {
      "cell_type": "markdown",
      "source": [
        "Logistic Regression with Word2Vec"
      ],
      "metadata": {
        "id": "b6NhSIrqVLFB"
      }
    },
    {
      "cell_type": "code",
      "source": [
        "def avgwv(los, wvmodel,wvwords):\n",
        "  list_vectors = [];\n",
        "  for sent in tqdm(los):\n",
        "     sent_vec = np.zeros(50)\n",
        "     cnt_words =0\n",
        "     for word in sent:\n",
        "          if word in wvwords:\n",
        "             vec = wvmodel.wv[word]\n",
        "             sent_vec += vec\n",
        "             cnt_words += 1\n",
        "     if cnt_words != 0:\n",
        "          sent_vec /= cnt_words\n",
        "     list_vectors.append(sent_vec)\n",
        "  vectors = np.array(list_vectors)\n",
        "  print(vectors.shape)\n",
        "  return (vectors)"
      ],
      "metadata": {
        "id": "3qqZ4UYNVQuG"
      },
      "execution_count": 68,
      "outputs": []
    },
    {
      "cell_type": "code",
      "source": [
        "train_vectors = avgwv(ls_train, w2v_model_train, w2v_words_train)\n",
        "test_vectors = avgwv(ls_test, w2v_model_test, w2v_words_test)"
      ],
      "metadata": {
        "colab": {
          "base_uri": "https://localhost:8080/"
        },
        "id": "ByMtm547jbcr",
        "outputId": "02fa74d1-15a7-4e8a-c992-30814525529f"
      },
      "execution_count": 69,
      "outputs": [
        {
          "output_type": "stream",
          "name": "stderr",
          "text": [
            "100%|██████████| 315133/315133 [22:48<00:00, 230.20it/s]\n"
          ]
        },
        {
          "output_type": "stream",
          "name": "stdout",
          "text": [
            "(315133, 50)\n"
          ]
        },
        {
          "output_type": "stream",
          "name": "stderr",
          "text": [
            "100%|██████████| 78784/78784 [02:53<00:00, 453.08it/s]"
          ]
        },
        {
          "output_type": "stream",
          "name": "stdout",
          "text": [
            "(78784, 50)\n"
          ]
        },
        {
          "output_type": "stream",
          "name": "stderr",
          "text": [
            "\n"
          ]
        }
      ]
    },
    {
      "cell_type": "code",
      "source": [
        "mm= MinMaxScaler()\n",
        "avgw2v_train_mm = mm.fit_transform(train_vectors)\n",
        "avgw2v_test_mm = mm.transform(test_vectors)"
      ],
      "metadata": {
        "id": "DMdmDsZlOTDc"
      },
      "execution_count": 70,
      "outputs": []
    },
    {
      "cell_type": "code",
      "source": [
        "avgw2v_train= np.array(train_vectors)\n",
        "avgw2v_test= np.array(test_vectors)"
      ],
      "metadata": {
        "id": "NBEcgEXaQMkX"
      },
      "execution_count": 71,
      "outputs": []
    },
    {
      "cell_type": "code",
      "source": [
        "C3 = 10\n",
        "LGR=LogisticRegression(penalty='l1',C=C3,solver='liblinear',max_iter=500)"
      ],
      "metadata": {
        "id": "y4WBt_8ZVQpL"
      },
      "execution_count": 72,
      "outputs": []
    },
    {
      "cell_type": "code",
      "source": [
        "LGR.fit(avgw2v_train, ytrain)\n",
        "pred = LGR.predict(avgw2v_test)\n",
        "accuracy_score(ytest, pred)"
      ],
      "metadata": {
        "colab": {
          "base_uri": "https://localhost:8080/"
        },
        "id": "I6J_J8SiVqk3",
        "outputId": "36cbb28b-7d08-4f65-8a8a-5d13a6c2415c"
      },
      "execution_count": 73,
      "outputs": [
        {
          "output_type": "execute_result",
          "data": {
            "text/plain": [
              "0.7508504264825345"
            ]
          },
          "metadata": {},
          "execution_count": 73
        }
      ]
    },
    {
      "cell_type": "code",
      "source": [
        "print(classification_report(ytest, pred))"
      ],
      "metadata": {
        "colab": {
          "base_uri": "https://localhost:8080/"
        },
        "id": "zxkdlglKXhTZ",
        "outputId": "aefe592e-056e-4a6c-c5d5-4b322bc5e0db"
      },
      "execution_count": 74,
      "outputs": [
        {
          "output_type": "stream",
          "name": "stdout",
          "text": [
            "              precision    recall  f1-score   support\n",
            "\n",
            "           0       0.32      0.11      0.17     17375\n",
            "           1       0.79      0.93      0.85     61409\n",
            "\n",
            "    accuracy                           0.75     78784\n",
            "   macro avg       0.55      0.52      0.51     78784\n",
            "weighted avg       0.68      0.75      0.70     78784\n",
            "\n"
          ]
        }
      ]
    },
    {
      "cell_type": "markdown",
      "source": [
        "Naive Bayes Classifier with Bag of Words"
      ],
      "metadata": {
        "id": "AzmDAVIpfDmT"
      }
    },
    {
      "cell_type": "code",
      "source": [
        "nbm1 = MultinomialNB()"
      ],
      "metadata": {
        "id": "Ol5oEfSTgPZ8"
      },
      "execution_count": 75,
      "outputs": []
    },
    {
      "cell_type": "code",
      "source": [
        "nbm1.fit(X_train_bow , ytrain)\n",
        "pred = nbm1.predict(X_test_bow )\n",
        "accuracy_score(ytest, pred)"
      ],
      "metadata": {
        "colab": {
          "base_uri": "https://localhost:8080/"
        },
        "id": "ICP2ooMamKaR",
        "outputId": "aceb101c-c5ac-494a-eec0-64ac24859b33"
      },
      "execution_count": 76,
      "outputs": [
        {
          "output_type": "execute_result",
          "data": {
            "text/plain": [
              "0.7792952883834281"
            ]
          },
          "metadata": {},
          "execution_count": 76
        }
      ]
    },
    {
      "cell_type": "code",
      "source": [
        "print(classification_report(ytest, pred))"
      ],
      "metadata": {
        "colab": {
          "base_uri": "https://localhost:8080/"
        },
        "id": "bu63FA9KXlFN",
        "outputId": "d1fa95dc-5cb1-419a-cbb2-f5e17ce18147"
      },
      "execution_count": 77,
      "outputs": [
        {
          "output_type": "stream",
          "name": "stdout",
          "text": [
            "              precision    recall  f1-score   support\n",
            "\n",
            "           0       0.50      0.68      0.58     17375\n",
            "           1       0.90      0.81      0.85     61409\n",
            "\n",
            "    accuracy                           0.78     78784\n",
            "   macro avg       0.70      0.74      0.71     78784\n",
            "weighted avg       0.81      0.78      0.79     78784\n",
            "\n"
          ]
        }
      ]
    },
    {
      "cell_type": "markdown",
      "source": [
        "Naive Bayes Classifier with TF-IDF"
      ],
      "metadata": {
        "id": "aKRHw-OYfWZX"
      }
    },
    {
      "cell_type": "code",
      "source": [
        "nbm2 = MultinomialNB()"
      ],
      "metadata": {
        "id": "3bTtU3-rnESE"
      },
      "execution_count": 78,
      "outputs": []
    },
    {
      "cell_type": "code",
      "source": [
        "nbm2.fit(X_train_tfidf, ytrain)\n",
        "pred = nbm2.predict(X_test_tfidf)\n",
        "accuracy_score(ytest, pred)"
      ],
      "metadata": {
        "colab": {
          "base_uri": "https://localhost:8080/"
        },
        "id": "7zq9OSMCmvfC",
        "outputId": "4e4fc7cb-e9dc-4d57-bfe0-69b2001f9e27"
      },
      "execution_count": 79,
      "outputs": [
        {
          "output_type": "execute_result",
          "data": {
            "text/plain": [
              "0.8459077985377742"
            ]
          },
          "metadata": {},
          "execution_count": 79
        }
      ]
    },
    {
      "cell_type": "code",
      "source": [
        "print(classification_report(ytest, pred))"
      ],
      "metadata": {
        "colab": {
          "base_uri": "https://localhost:8080/"
        },
        "id": "CXACtqRzXmqX",
        "outputId": "1b044dc4-f71d-4101-e671-dbedb4c8a278"
      },
      "execution_count": 80,
      "outputs": [
        {
          "output_type": "stream",
          "name": "stdout",
          "text": [
            "              precision    recall  f1-score   support\n",
            "\n",
            "           0       0.63      0.74      0.68     17375\n",
            "           1       0.92      0.88      0.90     61409\n",
            "\n",
            "    accuracy                           0.85     78784\n",
            "   macro avg       0.78      0.81      0.79     78784\n",
            "weighted avg       0.86      0.85      0.85     78784\n",
            "\n"
          ]
        }
      ]
    },
    {
      "cell_type": "markdown",
      "source": [
        "Naive Bayes Classifier with Word2Vec"
      ],
      "metadata": {
        "id": "_vdi0tvpfW54"
      }
    },
    {
      "cell_type": "code",
      "source": [
        "nbm3 = MultinomialNB()"
      ],
      "metadata": {
        "id": "m7Fv9O6FmwQj"
      },
      "execution_count": 81,
      "outputs": []
    },
    {
      "cell_type": "code",
      "source": [
        "nbm3.fit(avgw2v_train_mm, ytrain)\n",
        "pred = nbm3.predict(avgw2v_test_mm)\n",
        "accuracy_score(ytest, pred)"
      ],
      "metadata": {
        "colab": {
          "base_uri": "https://localhost:8080/"
        },
        "id": "I9RY5I1riUq5",
        "outputId": "ab3e9738-8ca8-4806-cb7a-6061501e2c5a"
      },
      "execution_count": 82,
      "outputs": [
        {
          "output_type": "execute_result",
          "data": {
            "text/plain": [
              "0.779460296506905"
            ]
          },
          "metadata": {},
          "execution_count": 82
        }
      ]
    },
    {
      "cell_type": "code",
      "source": [
        "print(classification_report(ytest, pred))"
      ],
      "metadata": {
        "colab": {
          "base_uri": "https://localhost:8080/"
        },
        "id": "2Ak9O4I5XnfY",
        "outputId": "bd861c3d-6ce5-42a0-d414-86700cc12bd1"
      },
      "execution_count": 83,
      "outputs": [
        {
          "output_type": "stream",
          "name": "stdout",
          "text": [
            "              precision    recall  f1-score   support\n",
            "\n",
            "           0       0.00      0.00      0.00     17375\n",
            "           1       0.78      1.00      0.88     61409\n",
            "\n",
            "    accuracy                           0.78     78784\n",
            "   macro avg       0.39      0.50      0.44     78784\n",
            "weighted avg       0.61      0.78      0.68     78784\n",
            "\n"
          ]
        }
      ]
    },
    {
      "cell_type": "markdown",
      "source": [
        "Using Deep Learning Model"
      ],
      "metadata": {
        "id": "-nOK2qrxpovF"
      }
    },
    {
      "cell_type": "markdown",
      "source": [
        "LSTM Model"
      ],
      "metadata": {
        "id": "EpJFAKPUyETl"
      }
    },
    {
      "cell_type": "code",
      "source": [
        "X = pp_sen\n",
        "Y = df1['score_split']\n",
        "x_train, x_test, y_train, y_test = train_test_split(X, Y, test_size=0.2, stratify=Y, random_state =10)\n",
        "y_train1 = to_categorical(y_train)\n",
        "y_test1 = to_categorical(y_test)\n",
        "\n",
        "max_words = 5000\n",
        "max_len = 100\n",
        "\n",
        "tokenizer = Tokenizer(num_words=max_words)\n",
        "tokenizer.fit_on_texts(x_train)\n",
        "sequences_train = tokenizer.texts_to_sequences(x_train)\n",
        "sequences_test = tokenizer.texts_to_sequences(x_test)\n",
        "seq_pad_train = pad_sequences(sequences_train, maxlen=max_len)\n",
        "seq_pad_test = pad_sequences(sequences_test, maxlen=max_len)"
      ],
      "metadata": {
        "id": "JCtnzpZr0q4d"
      },
      "execution_count": 84,
      "outputs": []
    },
    {
      "cell_type": "code",
      "source": [
        "model1 = Sequential()\n",
        "model1.add(layers.Embedding(max_words, 20))\n",
        "model1.add(layers.LSTM(15,dropout=0.5))\n",
        "model1.add(layers.Dense(2,activation='softmax'))\n",
        "model1.summary()"
      ],
      "metadata": {
        "colab": {
          "base_uri": "https://localhost:8080/"
        },
        "id": "HC-3zIuR0P2i",
        "outputId": "208a5311-d0e9-4b22-c75a-c2036ce24ae2"
      },
      "execution_count": 85,
      "outputs": [
        {
          "output_type": "stream",
          "name": "stdout",
          "text": [
            "Model: \"sequential\"\n",
            "_________________________________________________________________\n",
            " Layer (type)                Output Shape              Param #   \n",
            "=================================================================\n",
            " embedding (Embedding)       (None, None, 20)          100000    \n",
            "                                                                 \n",
            " lstm (LSTM)                 (None, 15)                2160      \n",
            "                                                                 \n",
            " dense (Dense)               (None, 2)                 32        \n",
            "                                                                 \n",
            "=================================================================\n",
            "Total params: 102192 (399.19 KB)\n",
            "Trainable params: 102192 (399.19 KB)\n",
            "Non-trainable params: 0 (0.00 Byte)\n",
            "_________________________________________________________________\n"
          ]
        }
      ]
    },
    {
      "cell_type": "code",
      "source": [
        "model1.compile(optimizer='adam',loss='binary_crossentropy', metrics=['accuracy'])"
      ],
      "metadata": {
        "id": "V8_YvE-X_Qdf"
      },
      "execution_count": 86,
      "outputs": []
    },
    {
      "cell_type": "code",
      "source": [
        "model1.fit(seq_pad_train, y_train1, epochs=10,validation_split=0.2)"
      ],
      "metadata": {
        "colab": {
          "base_uri": "https://localhost:8080/"
        },
        "id": "XFV6veI7pIiz",
        "outputId": "f043e2d8-c9b9-4e56-9af7-70f739cc2308"
      },
      "execution_count": 87,
      "outputs": [
        {
          "output_type": "stream",
          "name": "stdout",
          "text": [
            "Epoch 1/10\n",
            "7879/7879 [==============================] - 462s 58ms/step - loss: 0.3080 - accuracy: 0.8698 - val_loss: 0.2754 - val_accuracy: 0.8850\n",
            "Epoch 2/10\n",
            "7879/7879 [==============================] - 439s 56ms/step - loss: 0.2756 - accuracy: 0.8842 - val_loss: 0.2720 - val_accuracy: 0.8860\n",
            "Epoch 3/10\n",
            "7879/7879 [==============================] - 461s 59ms/step - loss: 0.2659 - accuracy: 0.8884 - val_loss: 0.2638 - val_accuracy: 0.8901\n",
            "Epoch 4/10\n",
            "7879/7879 [==============================] - 469s 60ms/step - loss: 0.2597 - accuracy: 0.8903 - val_loss: 0.2666 - val_accuracy: 0.8905\n",
            "Epoch 5/10\n",
            "7879/7879 [==============================] - 450s 57ms/step - loss: 0.2548 - accuracy: 0.8929 - val_loss: 0.2624 - val_accuracy: 0.8917\n",
            "Epoch 6/10\n",
            "7879/7879 [==============================] - 464s 59ms/step - loss: 0.2519 - accuracy: 0.8941 - val_loss: 0.2599 - val_accuracy: 0.8919\n",
            "Epoch 7/10\n",
            "7879/7879 [==============================] - 449s 57ms/step - loss: 0.2483 - accuracy: 0.8958 - val_loss: 0.2711 - val_accuracy: 0.8904\n",
            "Epoch 8/10\n",
            "7879/7879 [==============================] - 464s 59ms/step - loss: 0.2464 - accuracy: 0.8969 - val_loss: 0.2604 - val_accuracy: 0.8928\n",
            "Epoch 9/10\n",
            "7879/7879 [==============================] - 444s 56ms/step - loss: 0.2434 - accuracy: 0.8984 - val_loss: 0.2632 - val_accuracy: 0.8919\n",
            "Epoch 10/10\n",
            "7879/7879 [==============================] - 463s 59ms/step - loss: 0.2418 - accuracy: 0.8989 - val_loss: 0.2613 - val_accuracy: 0.8921\n"
          ]
        },
        {
          "output_type": "execute_result",
          "data": {
            "text/plain": [
              "<keras.src.callbacks.History at 0x7afaaf976020>"
            ]
          },
          "metadata": {},
          "execution_count": 87
        }
      ]
    },
    {
      "cell_type": "code",
      "source": [
        "pred = model1.predict(seq_pad_test)"
      ],
      "metadata": {
        "colab": {
          "base_uri": "https://localhost:8080/"
        },
        "id": "6RNPD-KADszK",
        "outputId": "1af6ac78-67dd-4532-dc6b-7e2207b9a5c4"
      },
      "execution_count": 88,
      "outputs": [
        {
          "output_type": "stream",
          "name": "stdout",
          "text": [
            "2462/2462 [==============================] - 30s 12ms/step\n"
          ]
        }
      ]
    },
    {
      "cell_type": "code",
      "source": [
        "ans=list()\n",
        "for i in pred:\n",
        "  ans.append(np.argmax(i))"
      ],
      "metadata": {
        "id": "V5soNSEcihxk"
      },
      "execution_count": 89,
      "outputs": []
    },
    {
      "cell_type": "code",
      "source": [
        "accuracy_score(y_test, ans)"
      ],
      "metadata": {
        "colab": {
          "base_uri": "https://localhost:8080/"
        },
        "id": "LrKeY2PnisA9",
        "outputId": "b8ea9cac-ca0c-4ee4-c0c1-58329c9958a7"
      },
      "execution_count": 90,
      "outputs": [
        {
          "output_type": "execute_result",
          "data": {
            "text/plain": [
              "0.8925416328188465"
            ]
          },
          "metadata": {},
          "execution_count": 90
        }
      ]
    },
    {
      "cell_type": "code",
      "source": [
        "print(classification_report(y_test, ans))"
      ],
      "metadata": {
        "colab": {
          "base_uri": "https://localhost:8080/"
        },
        "id": "DWMYzM_nXpol",
        "outputId": "d7775336-0660-46c5-b1e9-f098c6f248de"
      },
      "execution_count": 91,
      "outputs": [
        {
          "output_type": "stream",
          "name": "stdout",
          "text": [
            "              precision    recall  f1-score   support\n",
            "\n",
            "           0       0.77      0.73      0.75     17375\n",
            "           1       0.92      0.94      0.93     61409\n",
            "\n",
            "    accuracy                           0.89     78784\n",
            "   macro avg       0.85      0.83      0.84     78784\n",
            "weighted avg       0.89      0.89      0.89     78784\n",
            "\n"
          ]
        }
      ]
    }
  ]
}